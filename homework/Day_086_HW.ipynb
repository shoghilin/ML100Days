{
 "cells": [
  {
   "cell_type": "markdown",
   "metadata": {},
   "source": [
    "## Work\n",
    "1. 試比較 save_best_only 與否的差異\n",
    "2. 請僅存入將 save_weights_only 設定為 True, 並嘗試 reset ipynb 並將模型與權重重新建回並預測 x_test"
   ]
  },
  {
   "cell_type": "code",
   "execution_count": 1,
   "metadata": {},
   "outputs": [
    {
     "name": "stderr",
     "output_type": "stream",
     "text": [
      "Using TensorFlow backend.\n"
     ]
    }
   ],
   "source": [
    "import os\n",
    "import keras\n",
    "\n",
    "# Disable GPU\n",
    "os.environ[\"CUDA_VISIBLE_DEVICES\"] = \"\""
   ]
  },
  {
   "cell_type": "code",
   "execution_count": 2,
   "metadata": {},
   "outputs": [],
   "source": [
    "train, test = keras.datasets.cifar10.load_data()"
   ]
  },
  {
   "cell_type": "code",
   "execution_count": 3,
   "metadata": {},
   "outputs": [],
   "source": [
    "## 資料前處理\n",
    "def preproc_x(x, flatten=True):\n",
    "    x = x / 255.\n",
    "    if flatten:\n",
    "        x = x.reshape((len(x), -1))\n",
    "    return x\n",
    "\n",
    "def preproc_y(y, num_classes=10):\n",
    "    if y.shape[-1] == 1:\n",
    "        y = keras.utils.to_categorical(y, num_classes)\n",
    "    return y    "
   ]
  },
  {
   "cell_type": "code",
   "execution_count": 4,
   "metadata": {},
   "outputs": [],
   "source": [
    "x_train, y_train = train\n",
    "x_test, y_test = test\n",
    "\n",
    "# Preproc the inputs\n",
    "x_train = preproc_x(x_train)\n",
    "x_test = preproc_x(x_test)\n",
    "\n",
    "# Preprc the outputs\n",
    "y_train = preproc_y(y_train)\n",
    "y_test = preproc_y(y_test)"
   ]
  },
  {
   "cell_type": "code",
   "execution_count": 5,
   "metadata": {},
   "outputs": [],
   "source": [
    "from keras.layers import BatchNormalization\n",
    "\n",
    "def build_mlp(input_shape, output_units=10, num_neuron=[512, 256, 128]):\n",
    "    \"\"\"Code Here\n",
    "    建立你的神經網路\n",
    "    \"\"\"\n",
    "    input_layer = keras.layers.Input(input_shape)\n",
    "    \n",
    "    for i, n_units in enumerate(num_neuron):\n",
    "        if i == 0:\n",
    "            x = keras.layers.Dense(units=n_units, activation='relu', name='hidden_layer'+str(i+1))(input_layer)\n",
    "            \n",
    "            x = BatchNormalization()(x)\n",
    "            \n",
    "        else:\n",
    "            x = keras.layers.Dense(units=n_units, activation='relu', name='hidden_layer'+str(i+1))(x)\n",
    "            \n",
    "            x = BatchNormalization()(x)\n",
    "            \n",
    "    out = keras.layers.Dense(units=output_units, activation='softmax', name='output')(x)\n",
    "    \n",
    "    model = keras.models.Model(inputs=[input_layer], outputs=[out])\n",
    "    return model"
   ]
  },
  {
   "cell_type": "code",
   "execution_count": 6,
   "metadata": {},
   "outputs": [],
   "source": [
    "\"\"\"Code Here\n",
    "設定超參數\n",
    "\"\"\"\n",
    "LEARNING_RATE = 1e-3\n",
    "EPOCHS = 50\n",
    "BATCH_SIZE = 1024\n",
    "MOMENTUM = 0.95"
   ]
  },
  {
   "cell_type": "code",
   "execution_count": 7,
   "metadata": {},
   "outputs": [
    {
     "name": "stdout",
     "output_type": "stream",
     "text": [
      "Model: \"model_1\"\n",
      "_________________________________________________________________\n",
      "Layer (type)                 Output Shape              Param #   \n",
      "=================================================================\n",
      "input_1 (InputLayer)         (None, 3072)              0         \n",
      "_________________________________________________________________\n",
      "hidden_layer1 (Dense)        (None, 512)               1573376   \n",
      "_________________________________________________________________\n",
      "batch_normalization_1 (Batch (None, 512)               2048      \n",
      "_________________________________________________________________\n",
      "hidden_layer2 (Dense)        (None, 256)               131328    \n",
      "_________________________________________________________________\n",
      "batch_normalization_2 (Batch (None, 256)               1024      \n",
      "_________________________________________________________________\n",
      "hidden_layer3 (Dense)        (None, 128)               32896     \n",
      "_________________________________________________________________\n",
      "batch_normalization_3 (Batch (None, 128)               512       \n",
      "_________________________________________________________________\n",
      "output (Dense)               (None, 10)                1290      \n",
      "=================================================================\n",
      "Total params: 1,742,474\n",
      "Trainable params: 1,740,682\n",
      "Non-trainable params: 1,792\n",
      "_________________________________________________________________\n",
      "Train on 50000 samples, validate on 10000 samples\n",
      "Epoch 1/50\n",
      "50000/50000 [==============================] - 8s 160us/step - loss: 2.1847 - accuracy: 0.2759 - val_loss: 2.1660 - val_accuracy: 0.1925\n",
      "Epoch 2/50\n",
      "50000/50000 [==============================] - 7s 138us/step - loss: 1.7494 - accuracy: 0.3886 - val_loss: 1.9970 - val_accuracy: 0.2887\n",
      "Epoch 3/50\n",
      "50000/50000 [==============================] - 7s 136us/step - loss: 1.6271 - accuracy: 0.4300 - val_loss: 1.8597 - val_accuracy: 0.3427\n",
      "Epoch 4/50\n",
      "50000/50000 [==============================] - 7s 143us/step - loss: 1.5529 - accuracy: 0.4569 - val_loss: 1.7358 - val_accuracy: 0.3922\n",
      "Epoch 5/50\n",
      "50000/50000 [==============================] - 7s 144us/step - loss: 1.4965 - accuracy: 0.4784 - val_loss: 1.6600 - val_accuracy: 0.4255\n",
      "Epoch 6/50\n",
      "50000/50000 [==============================] - 7s 141us/step - loss: 1.4522 - accuracy: 0.4914 - val_loss: 1.6026 - val_accuracy: 0.4434\n",
      "Epoch 7/50\n",
      "50000/50000 [==============================] - 7s 132us/step - loss: 1.4131 - accuracy: 0.5077 - val_loss: 1.5595 - val_accuracy: 0.4519\n",
      "Epoch 8/50\n",
      "50000/50000 [==============================] - 7s 141us/step - loss: 1.3782 - accuracy: 0.5212 - val_loss: 1.5483 - val_accuracy: 0.4591\n",
      "Epoch 9/50\n",
      "50000/50000 [==============================] - 7s 146us/step - loss: 1.3456 - accuracy: 0.5324 - val_loss: 1.5154 - val_accuracy: 0.4662\n",
      "Epoch 10/50\n",
      "50000/50000 [==============================] - 7s 143us/step - loss: 1.3169 - accuracy: 0.5423 - val_loss: 1.5082 - val_accuracy: 0.4684\n",
      "Epoch 11/50\n",
      "50000/50000 [==============================] - 7s 142us/step - loss: 1.2883 - accuracy: 0.5536 - val_loss: 1.4816 - val_accuracy: 0.4785\n",
      "Epoch 12/50\n",
      "50000/50000 [==============================] - 8s 155us/step - loss: 1.2591 - accuracy: 0.5643 - val_loss: 1.4883 - val_accuracy: 0.4768\n",
      "Epoch 13/50\n",
      "50000/50000 [==============================] - 7s 140us/step - loss: 1.2341 - accuracy: 0.5737 - val_loss: 1.4702 - val_accuracy: 0.4820\n",
      "Epoch 14/50\n",
      "50000/50000 [==============================] - 7s 146us/step - loss: 1.2078 - accuracy: 0.5822 - val_loss: 1.4717 - val_accuracy: 0.4890\n",
      "Epoch 15/50\n",
      "50000/50000 [==============================] - 7s 143us/step - loss: 1.1835 - accuracy: 0.5917 - val_loss: 1.4773 - val_accuracy: 0.4827\n",
      "Epoch 16/50\n",
      "50000/50000 [==============================] - 7s 140us/step - loss: 1.1617 - accuracy: 0.5996 - val_loss: 1.4644 - val_accuracy: 0.4861\n",
      "Epoch 17/50\n",
      "50000/50000 [==============================] - 7s 145us/step - loss: 1.1363 - accuracy: 0.6086 - val_loss: 1.4667 - val_accuracy: 0.4873\n",
      "Epoch 18/50\n",
      "50000/50000 [==============================] - 7s 149us/step - loss: 1.1129 - accuracy: 0.6174 - val_loss: 1.4630 - val_accuracy: 0.4930\n",
      "Epoch 19/50\n",
      "50000/50000 [==============================] - 7s 146us/step - loss: 1.0913 - accuracy: 0.6269 - val_loss: 1.4729 - val_accuracy: 0.4906\n",
      "Epoch 20/50\n",
      "50000/50000 [==============================] - 8s 150us/step - loss: 1.0690 - accuracy: 0.6360 - val_loss: 1.4657 - val_accuracy: 0.4888\n",
      "Epoch 21/50\n",
      "50000/50000 [==============================] - 7s 136us/step - loss: 1.0470 - accuracy: 0.6435 - val_loss: 1.4600 - val_accuracy: 0.4968\n",
      "Epoch 22/50\n",
      "50000/50000 [==============================] - 7s 134us/step - loss: 1.0255 - accuracy: 0.6540 - val_loss: 1.4675 - val_accuracy: 0.4860\n",
      "Epoch 23/50\n",
      "50000/50000 [==============================] - 7s 148us/step - loss: 1.0050 - accuracy: 0.6601 - val_loss: 1.4706 - val_accuracy: 0.4958\n",
      "Epoch 24/50\n",
      "50000/50000 [==============================] - 7s 139us/step - loss: 0.9836 - accuracy: 0.6687 - val_loss: 1.4644 - val_accuracy: 0.4969\n",
      "Epoch 25/50\n",
      "50000/50000 [==============================] - 7s 133us/step - loss: 0.9636 - accuracy: 0.6749 - val_loss: 1.4814 - val_accuracy: 0.4908\n",
      "Epoch 26/50\n",
      "50000/50000 [==============================] - 7s 142us/step - loss: 0.9435 - accuracy: 0.6836 - val_loss: 1.4686 - val_accuracy: 0.4978\n",
      "Epoch 27/50\n",
      "50000/50000 [==============================] - 7s 142us/step - loss: 0.9221 - accuracy: 0.6938 - val_loss: 1.4757 - val_accuracy: 0.4923\n",
      "Epoch 28/50\n",
      "50000/50000 [==============================] - 7s 135us/step - loss: 0.8996 - accuracy: 0.7019 - val_loss: 1.4752 - val_accuracy: 0.4988\n",
      "Epoch 29/50\n",
      "50000/50000 [==============================] - 7s 142us/step - loss: 0.8794 - accuracy: 0.7100 - val_loss: 1.4888 - val_accuracy: 0.4930\n",
      "Epoch 30/50\n",
      "50000/50000 [==============================] - 7s 146us/step - loss: 0.8591 - accuracy: 0.7165 - val_loss: 1.4875 - val_accuracy: 0.4969\n",
      "Epoch 31/50\n",
      "50000/50000 [==============================] - 7s 138us/step - loss: 0.8398 - accuracy: 0.7255 - val_loss: 1.4982 - val_accuracy: 0.4950\n",
      "Epoch 32/50\n",
      "50000/50000 [==============================] - 7s 140us/step - loss: 0.8217 - accuracy: 0.7316 - val_loss: 1.5049 - val_accuracy: 0.4953\n",
      "Epoch 33/50\n",
      "50000/50000 [==============================] - 8s 156us/step - loss: 0.8006 - accuracy: 0.7403 - val_loss: 1.4974 - val_accuracy: 0.4995\n",
      "Epoch 34/50\n",
      "50000/50000 [==============================] - 7s 140us/step - loss: 0.7835 - accuracy: 0.7469 - val_loss: 1.5302 - val_accuracy: 0.4969\n",
      "Epoch 35/50\n",
      "50000/50000 [==============================] - 7s 145us/step - loss: 0.7632 - accuracy: 0.7550 - val_loss: 1.5463 - val_accuracy: 0.4905\n",
      "Epoch 36/50\n",
      "50000/50000 [==============================] - 7s 141us/step - loss: 0.7418 - accuracy: 0.7626 - val_loss: 1.5418 - val_accuracy: 0.4929\n",
      "Epoch 37/50\n",
      "50000/50000 [==============================] - 7s 137us/step - loss: 0.7261 - accuracy: 0.7708 - val_loss: 1.5482 - val_accuracy: 0.4936\n",
      "Epoch 38/50\n",
      "50000/50000 [==============================] - 7s 146us/step - loss: 0.7051 - accuracy: 0.7776 - val_loss: 1.5481 - val_accuracy: 0.4990\n",
      "Epoch 39/50\n",
      "50000/50000 [==============================] - 7s 149us/step - loss: 0.6866 - accuracy: 0.7851 - val_loss: 1.5564 - val_accuracy: 0.4928\n",
      "Epoch 40/50\n",
      "50000/50000 [==============================] - 7s 143us/step - loss: 0.6695 - accuracy: 0.7921 - val_loss: 1.5611 - val_accuracy: 0.4971\n",
      "Epoch 41/50\n",
      "50000/50000 [==============================] - 7s 148us/step - loss: 0.6523 - accuracy: 0.7989 - val_loss: 1.5901 - val_accuracy: 0.4945\n",
      "Epoch 42/50\n",
      "50000/50000 [==============================] - 7s 137us/step - loss: 0.6329 - accuracy: 0.8075 - val_loss: 1.5980 - val_accuracy: 0.4890\n",
      "Epoch 43/50\n",
      "50000/50000 [==============================] - 7s 139us/step - loss: 0.6146 - accuracy: 0.8143 - val_loss: 1.6073 - val_accuracy: 0.4903\n",
      "Epoch 44/50\n",
      "50000/50000 [==============================] - 7s 148us/step - loss: 0.5944 - accuracy: 0.8240 - val_loss: 1.6140 - val_accuracy: 0.4913\n",
      "Epoch 45/50\n",
      "50000/50000 [==============================] - 7s 144us/step - loss: 0.5782 - accuracy: 0.8295 - val_loss: 1.6423 - val_accuracy: 0.4927\n",
      "Epoch 46/50\n"
     ]
    },
    {
     "name": "stdout",
     "output_type": "stream",
     "text": [
      "50000/50000 [==============================] - 8s 151us/step - loss: 0.5633 - accuracy: 0.8336 - val_loss: 1.6374 - val_accuracy: 0.4950\n",
      "Epoch 47/50\n",
      "50000/50000 [==============================] - 7s 148us/step - loss: 0.5452 - accuracy: 0.8427 - val_loss: 1.6532 - val_accuracy: 0.4939\n",
      "Epoch 48/50\n",
      "50000/50000 [==============================] - 7s 141us/step - loss: 0.5276 - accuracy: 0.8486 - val_loss: 1.6586 - val_accuracy: 0.4868\n",
      "Epoch 49/50\n",
      "50000/50000 [==============================] - 7s 136us/step - loss: 0.5099 - accuracy: 0.8560 - val_loss: 1.6767 - val_accuracy: 0.4953\n",
      "Epoch 50/50\n",
      "50000/50000 [==============================] - 7s 142us/step - loss: 0.4941 - accuracy: 0.8627 - val_loss: 1.7025 - val_accuracy: 0.4973\n",
      "10000/10000 [==============================] - 2s 159us/step\n"
     ]
    }
   ],
   "source": [
    "# 載入 Callbacks\n",
    "\"\"\"Code Here\n",
    "設定 callbacks: model checkpoint\n",
    "\"\"\"\n",
    "from keras.callbacks import ModelCheckpoint\n",
    "\n",
    "model_ckpt = ModelCheckpoint(filepath=\"./tmp.h5\", \n",
    "                             monitor=\"val_loss\", \n",
    "                             save_best_only=False)\n",
    "\n",
    "results = {}\n",
    "\"\"\"Code Here\n",
    "撰寫你的訓練流程並將結果用 dictionary 紀錄\n",
    "\"\"\"\n",
    "model = build_mlp(input_shape=x_train.shape[1:])\n",
    "model.summary()\n",
    "optimizer = keras.optimizers.SGD(lr=LEARNING_RATE, nesterov=True, momentum=MOMENTUM)\n",
    "model.compile(loss=\"categorical_crossentropy\", metrics=[\"accuracy\"], optimizer=optimizer)\n",
    "\n",
    "model.fit(x_train, y_train, \n",
    "          epochs=EPOCHS, \n",
    "          batch_size=BATCH_SIZE, \n",
    "          validation_data=(x_test, y_test), \n",
    "          shuffle=True,\n",
    "          callbacks=[model_ckpt]\n",
    "         )\n",
    "\n",
    "# Collect results\n",
    "train_loss = model.history.history[\"loss\"]\n",
    "valid_loss = model.history.history[\"val_loss\"]\n",
    "train_acc = model.history.history[\"accuracy\"]\n",
    "valid_acc = model.history.history[\"val_accuracy\"]\n",
    "\n",
    "# Load back\n",
    "model = keras.models.load_model(\"./tmp.h5\")\n",
    "loss_loadback, acc_loadback = model.evaluate(x_test, y_test)"
   ]
  },
  {
   "cell_type": "code",
   "execution_count": 8,
   "metadata": {
    "scrolled": true
   },
   "outputs": [
    {
     "data": {
      "image/png": "[encoded data removed]",
      "text/plain": [
       "<Figure size 432x288 with 1 Axes>"
      ]
     },
     "metadata": {
      "needs_background": "light"
     },
     "output_type": "display_data"
    },
    {
     "data": {
      "image/png": "[encoded data removed]",
      "text/plain": [
       "<Figure size 432x288 with 1 Axes>"
      ]
     },
     "metadata": {
      "needs_background": "light"
     },
     "output_type": "display_data"
    }
   ],
   "source": [
    "import matplotlib.pyplot as plt\n",
    "%matplotlib inline\n",
    "\n",
    "plt.plot(range(len(train_loss)), train_loss, label=\"train loss\")\n",
    "plt.plot(range(len(valid_loss)), valid_loss, label=\"valid loss\")\n",
    "plt.hlines(y=loss_loadback, xmin=0, xmax=len(train_loss), colors='r', linestyles='--')\n",
    "plt.legend()\n",
    "plt.title(\"Loss\")\n",
    "plt.show()\n",
    "\n",
    "plt.plot(range(len(train_acc)), train_acc, label=\"train accuracy\")\n",
    "plt.plot(range(len(valid_acc)), valid_acc, label=\"valid accuracy\")\n",
    "plt.hlines(y=acc_loadback, xmin=0, xmax=len(train_loss), colors='r', linestyles='--')\n",
    "plt.legend()\n",
    "plt.title(\"Accuracy\")\n",
    "plt.show()"
   ]
  },
  {
   "cell_type": "code",
   "execution_count": 9,
   "metadata": {},
   "outputs": [
    {
     "name": "stdout",
     "output_type": "stream",
     "text": [
      "Model: \"model_2\"\n",
      "_________________________________________________________________\n",
      "Layer (type)                 Output Shape              Param #   \n",
      "=================================================================\n",
      "input_2 (InputLayer)         (None, 3072)              0         \n",
      "_________________________________________________________________\n",
      "hidden_layer1 (Dense)        (None, 512)               1573376   \n",
      "_________________________________________________________________\n",
      "batch_normalization_4 (Batch (None, 512)               2048      \n",
      "_________________________________________________________________\n",
      "hidden_layer2 (Dense)        (None, 256)               131328    \n",
      "_________________________________________________________________\n",
      "batch_normalization_5 (Batch (None, 256)               1024      \n",
      "_________________________________________________________________\n",
      "hidden_layer3 (Dense)        (None, 128)               32896     \n",
      "_________________________________________________________________\n",
      "batch_normalization_6 (Batch (None, 128)               512       \n",
      "_________________________________________________________________\n",
      "output (Dense)               (None, 10)                1290      \n",
      "=================================================================\n",
      "Total params: 1,742,474\n",
      "Trainable params: 1,740,682\n",
      "Non-trainable params: 1,792\n",
      "_________________________________________________________________\n",
      "Train on 50000 samples, validate on 10000 samples\n",
      "Epoch 1/50\n",
      "50000/50000 [==============================] - 8s 165us/step - loss: 2.2194 - accuracy: 0.2683 - val_loss: 2.1574 - val_accuracy: 0.1960\n",
      "Epoch 2/50\n",
      "50000/50000 [==============================] - 7s 145us/step - loss: 1.7372 - accuracy: 0.3907 - val_loss: 1.9966 - val_accuracy: 0.2722\n",
      "Epoch 3/50\n",
      "50000/50000 [==============================] - 7s 150us/step - loss: 1.6166 - accuracy: 0.4350 - val_loss: 1.8446 - val_accuracy: 0.3501\n",
      "Epoch 4/50\n",
      "50000/50000 [==============================] - 7s 149us/step - loss: 1.5469 - accuracy: 0.4596 - val_loss: 1.7254 - val_accuracy: 0.3944\n",
      "Epoch 5/50\n",
      "50000/50000 [==============================] - 7s 144us/step - loss: 1.4933 - accuracy: 0.4769 - val_loss: 1.6511 - val_accuracy: 0.4232\n",
      "Epoch 6/50\n",
      "50000/50000 [==============================] - 7s 136us/step - loss: 1.4480 - accuracy: 0.4926 - val_loss: 1.5956 - val_accuracy: 0.4366\n",
      "Epoch 7/50\n",
      "50000/50000 [==============================] - 7s 148us/step - loss: 1.4115 - accuracy: 0.5068 - val_loss: 1.5549 - val_accuracy: 0.4552\n",
      "Epoch 8/50\n",
      "50000/50000 [==============================] - 7s 143us/step - loss: 1.3742 - accuracy: 0.5213 - val_loss: 1.5334 - val_accuracy: 0.4672\n",
      "Epoch 9/50\n",
      "50000/50000 [==============================] - 7s 135us/step - loss: 1.3428 - accuracy: 0.5318 - val_loss: 1.5117 - val_accuracy: 0.4673\n",
      "Epoch 10/50\n",
      "50000/50000 [==============================] - 7s 141us/step - loss: 1.3148 - accuracy: 0.5426 - val_loss: 1.5031 - val_accuracy: 0.4723\n",
      "Epoch 11/50\n",
      "50000/50000 [==============================] - 8s 155us/step - loss: 1.2851 - accuracy: 0.5526 - val_loss: 1.4832 - val_accuracy: 0.4805\n",
      "Epoch 12/50\n",
      "50000/50000 [==============================] - 7s 146us/step - loss: 1.2585 - accuracy: 0.5608 - val_loss: 1.4721 - val_accuracy: 0.4878\n",
      "Epoch 13/50\n",
      "50000/50000 [==============================] - 7s 137us/step - loss: 1.2333 - accuracy: 0.5712 - val_loss: 1.4757 - val_accuracy: 0.4806\n",
      "Epoch 14/50\n",
      "50000/50000 [==============================] - 7s 144us/step - loss: 1.2093 - accuracy: 0.5794 - val_loss: 1.4820 - val_accuracy: 0.4816\n",
      "Epoch 15/50\n",
      "50000/50000 [==============================] - 7s 140us/step - loss: 1.1858 - accuracy: 0.5893 - val_loss: 1.4770 - val_accuracy: 0.4847\n",
      "Epoch 16/50\n",
      "50000/50000 [==============================] - 7s 134us/step - loss: 1.1616 - accuracy: 0.5984 - val_loss: 1.4645 - val_accuracy: 0.4864\n",
      "Epoch 17/50\n",
      "50000/50000 [==============================] - 7s 137us/step - loss: 1.1378 - accuracy: 0.6075 - val_loss: 1.4817 - val_accuracy: 0.4825\n",
      "Epoch 18/50\n",
      "50000/50000 [==============================] - 7s 143us/step - loss: 1.1169 - accuracy: 0.6160 - val_loss: 1.4693 - val_accuracy: 0.4934\n",
      "Epoch 19/50\n",
      "50000/50000 [==============================] - 7s 138us/step - loss: 1.0949 - accuracy: 0.6232 - val_loss: 1.4673 - val_accuracy: 0.4923\n",
      "Epoch 20/50\n",
      "50000/50000 [==============================] - 7s 135us/step - loss: 1.0725 - accuracy: 0.6307 - val_loss: 1.4563 - val_accuracy: 0.4967\n",
      "Epoch 21/50\n",
      "50000/50000 [==============================] - 7s 144us/step - loss: 1.0496 - accuracy: 0.6400 - val_loss: 1.4720 - val_accuracy: 0.4882\n",
      "Epoch 22/50\n",
      "50000/50000 [==============================] - 7s 147us/step - loss: 1.0288 - accuracy: 0.6497 - val_loss: 1.4688 - val_accuracy: 0.4908\n",
      "Epoch 23/50\n",
      "50000/50000 [==============================] - 7s 146us/step - loss: 1.0083 - accuracy: 0.6580 - val_loss: 1.4712 - val_accuracy: 0.4915\n",
      "Epoch 24/50\n",
      "50000/50000 [==============================] - 7s 136us/step - loss: 0.9882 - accuracy: 0.6658 - val_loss: 1.4672 - val_accuracy: 0.4937\n",
      "Epoch 25/50\n",
      "50000/50000 [==============================] - 7s 142us/step - loss: 0.9672 - accuracy: 0.6738 - val_loss: 1.4858 - val_accuracy: 0.4909\n",
      "Epoch 26/50\n",
      "50000/50000 [==============================] - 8s 152us/step - loss: 0.9494 - accuracy: 0.6822 - val_loss: 1.4762 - val_accuracy: 0.4975\n",
      "Epoch 27/50\n",
      "50000/50000 [==============================] - 7s 149us/step - loss: 0.9272 - accuracy: 0.6885 - val_loss: 1.4860 - val_accuracy: 0.4919\n",
      "Epoch 28/50\n",
      "50000/50000 [==============================] - 8s 152us/step - loss: 0.9056 - accuracy: 0.6986 - val_loss: 1.4797 - val_accuracy: 0.4902\n",
      "Epoch 29/50\n",
      "50000/50000 [==============================] - 8s 151us/step - loss: 0.8875 - accuracy: 0.7040 - val_loss: 1.5173 - val_accuracy: 0.4896\n",
      "Epoch 30/50\n",
      "50000/50000 [==============================] - 8s 151us/step - loss: 0.8690 - accuracy: 0.7120 - val_loss: 1.4922 - val_accuracy: 0.4997\n",
      "Epoch 31/50\n",
      "50000/50000 [==============================] - 8s 152us/step - loss: 0.8479 - accuracy: 0.7213 - val_loss: 1.4961 - val_accuracy: 0.4967\n",
      "Epoch 32/50\n",
      "50000/50000 [==============================] - 8s 151us/step - loss: 0.8294 - accuracy: 0.7296 - val_loss: 1.5034 - val_accuracy: 0.4998\n",
      "Epoch 33/50\n",
      "50000/50000 [==============================] - 7s 150us/step - loss: 0.8092 - accuracy: 0.7363 - val_loss: 1.5027 - val_accuracy: 0.4988\n",
      "Epoch 34/50\n",
      "50000/50000 [==============================] - 7s 149us/step - loss: 0.7907 - accuracy: 0.7428 - val_loss: 1.5357 - val_accuracy: 0.4874\n",
      "Epoch 35/50\n",
      "50000/50000 [==============================] - 8s 151us/step - loss: 0.7699 - accuracy: 0.7518 - val_loss: 1.5341 - val_accuracy: 0.4930\n",
      "Epoch 36/50\n",
      "50000/50000 [==============================] - 7s 150us/step - loss: 0.7519 - accuracy: 0.7583 - val_loss: 1.5182 - val_accuracy: 0.4979\n",
      "Epoch 37/50\n",
      "50000/50000 [==============================] - 8s 152us/step - loss: 0.7327 - accuracy: 0.7662 - val_loss: 1.5422 - val_accuracy: 0.4944\n",
      "Epoch 38/50\n",
      "50000/50000 [==============================] - 8s 151us/step - loss: 0.7129 - accuracy: 0.7737 - val_loss: 1.5404 - val_accuracy: 0.4950\n",
      "Epoch 39/50\n",
      "50000/50000 [==============================] - 8s 151us/step - loss: 0.6951 - accuracy: 0.7807 - val_loss: 1.5578 - val_accuracy: 0.4908\n",
      "Epoch 40/50\n",
      "50000/50000 [==============================] - 8s 151us/step - loss: 0.6768 - accuracy: 0.7890 - val_loss: 1.5763 - val_accuracy: 0.4866\n",
      "Epoch 41/50\n",
      "50000/50000 [==============================] - 8s 153us/step - loss: 0.6555 - accuracy: 0.7989 - val_loss: 1.5705 - val_accuracy: 0.4947\n",
      "Epoch 42/50\n",
      "50000/50000 [==============================] - 8s 153us/step - loss: 0.6376 - accuracy: 0.8063 - val_loss: 1.5939 - val_accuracy: 0.4916\n",
      "Epoch 43/50\n",
      "50000/50000 [==============================] - 8s 153us/step - loss: 0.6223 - accuracy: 0.8116 - val_loss: 1.6165 - val_accuracy: 0.4856\n",
      "Epoch 44/50\n",
      "50000/50000 [==============================] - 8s 157us/step - loss: 0.6033 - accuracy: 0.8179 - val_loss: 1.6279 - val_accuracy: 0.4872\n",
      "Epoch 45/50\n",
      "50000/50000 [==============================] - 8s 154us/step - loss: 0.5877 - accuracy: 0.8255 - val_loss: 1.6318 - val_accuracy: 0.4885\n",
      "Epoch 46/50\n"
     ]
    },
    {
     "name": "stdout",
     "output_type": "stream",
     "text": [
      "50000/50000 [==============================] - 8s 153us/step - loss: 0.5681 - accuracy: 0.8320 - val_loss: 1.6485 - val_accuracy: 0.4868\n",
      "Epoch 47/50\n",
      "50000/50000 [==============================] - 8s 152us/step - loss: 0.5518 - accuracy: 0.8390 - val_loss: 1.6563 - val_accuracy: 0.4882\n",
      "Epoch 48/50\n",
      "50000/50000 [==============================] - 8s 151us/step - loss: 0.5346 - accuracy: 0.8459 - val_loss: 1.6677 - val_accuracy: 0.4872\n",
      "Epoch 49/50\n",
      "50000/50000 [==============================] - 8s 151us/step - loss: 0.5184 - accuracy: 0.8518 - val_loss: 1.6838 - val_accuracy: 0.4849\n",
      "Epoch 50/50\n",
      "50000/50000 [==============================] - 7s 150us/step - loss: 0.5029 - accuracy: 0.8570 - val_loss: 1.7063 - val_accuracy: 0.4876\n",
      "10000/10000 [==============================] - 2s 157us/step\n"
     ]
    }
   ],
   "source": [
    "# 載入 Callbacks\n",
    "\"\"\"Code Here\n",
    "設定 callbacks: model checkpoint\n",
    "\"\"\"\n",
    "model_ckpt = ModelCheckpoint(filepath=\"./tmp.h5\", \n",
    "                             monitor=\"val_loss\", \n",
    "                             save_best_only=True)\n",
    "\n",
    "results = {}\n",
    "\"\"\"Code Here\n",
    "撰寫你的訓練流程並將結果用 dictionary 紀錄\n",
    "\"\"\"\n",
    "model = build_mlp(input_shape=x_train.shape[1:])\n",
    "model.summary()\n",
    "optimizer = keras.optimizers.SGD(lr=LEARNING_RATE, nesterov=True, momentum=MOMENTUM)\n",
    "model.compile(loss=\"categorical_crossentropy\", metrics=[\"accuracy\"], optimizer=optimizer)\n",
    "\n",
    "model.fit(x_train, y_train, \n",
    "          epochs=EPOCHS, \n",
    "          batch_size=BATCH_SIZE, \n",
    "          validation_data=(x_test, y_test), \n",
    "          shuffle=True,\n",
    "          callbacks=[model_ckpt]\n",
    "         )\n",
    "\n",
    "# Collect results\n",
    "train_loss = model.history.history[\"loss\"]\n",
    "valid_loss = model.history.history[\"val_loss\"]\n",
    "train_acc = model.history.history[\"accuracy\"]\n",
    "valid_acc = model.history.history[\"val_accuracy\"]\n",
    "\n",
    "# Load back\n",
    "model = keras.models.load_model(\"./tmp.h5\")\n",
    "loss_loadback, acc_loadback = model.evaluate(x_test, y_test)"
   ]
  },
  {
   "cell_type": "code",
   "execution_count": 10,
   "metadata": {},
   "outputs": [
    {
     "data": {
      "image/png": "[encoded data removed]",
      "text/plain": [
       "<Figure size 432x288 with 1 Axes>"
      ]
     },
     "metadata": {
      "needs_background": "light"
     },
     "output_type": "display_data"
    },
    {
     "data": {
      "image/png": "[encoded data removed]",
      "text/plain": [
       "<Figure size 432x288 with 1 Axes>"
      ]
     },
     "metadata": {
      "needs_background": "light"
     },
     "output_type": "display_data"
    }
   ],
   "source": [
    "plt.plot(range(len(train_loss)), train_loss, label=\"train loss\")\n",
    "plt.plot(range(len(valid_loss)), valid_loss, label=\"valid loss\")\n",
    "plt.hlines(y=loss_loadback, xmin=0, xmax=len(train_loss), colors='r', linestyles='--')\n",
    "plt.legend()\n",
    "plt.title(\"Loss\")\n",
    "plt.show()\n",
    "\n",
    "plt.plot(range(len(train_acc)), train_acc, label=\"train accuracy\")\n",
    "plt.plot(range(len(valid_acc)), valid_acc, label=\"valid accuracy\")\n",
    "plt.hlines(y=acc_loadback, xmin=0, xmax=len(train_loss), colors='r', linestyles='--')\n",
    "plt.legend()\n",
    "plt.title(\"Accuracy\")\n",
    "plt.show()"
   ]
  },
  {
   "cell_type": "code",
   "execution_count": 1,
   "metadata": {},
   "outputs": [
    {
     "name": "stderr",
     "output_type": "stream",
     "text": [
      "Using TensorFlow backend.\n"
     ]
    },
    {
     "name": "stdout",
     "output_type": "stream",
     "text": [
      "10000/10000 [==============================] - 1s 128us/step\n"
     ]
    }
   ],
   "source": [
    "#after restart\n",
    "import keras\n",
    "\n",
    "train, test = keras.datasets.cifar10.load_data()\n",
    "\n",
    "## 資料前處理\n",
    "def preproc_x(x, flatten=True):\n",
    "    x = x / 255.\n",
    "    if flatten:\n",
    "        x = x.reshape((len(x), -1))\n",
    "    return x\n",
    "\n",
    "def preproc_y(y, num_classes=10):\n",
    "    if y.shape[-1] == 1:\n",
    "        y = keras.utils.to_categorical(y, num_classes)\n",
    "    return y    \n",
    "\n",
    "x_train, y_train = train\n",
    "x_test, y_test = test\n",
    "\n",
    "# Preproc the inputs\n",
    "x_train = preproc_x(x_train)\n",
    "x_test = preproc_x(x_test)\n",
    "\n",
    "# Preprc the outputs\n",
    "y_train = preproc_y(y_train)\n",
    "y_test = preproc_y(y_test)\n",
    "\n",
    "model = keras.models.load_model(\"./tmp.h5\")\n",
    "loss_loadback, acc_loadback = model.evaluate(x_test, y_test)"
   ]
  },
  {
   "cell_type": "code",
   "execution_count": 2,
   "metadata": {},
   "outputs": [
    {
     "name": "stdout",
     "output_type": "stream",
     "text": [
      "loss_loadback : 1.4562783744812011 \n",
      "acc_loadback : 0.4966999888420105\n"
     ]
    }
   ],
   "source": [
    "print('loss_loadback : %s \\nacc_loadback : %s' % (loss_loadback, acc_loadback))"
   ]
  },
  {
   "cell_type": "code",
   "execution_count": null,
   "metadata": {},
   "outputs": [],
   "source": []
  }
 ],
 "metadata": {
  "kernelspec": {
   "display_name": "Python 3",
   "language": "python",
   "name": "python3"
  },
  "language_info": {
   "codemirror_mode": {
    "name": "ipython",
    "version": 3
   },
   "file_extension": ".py",
   "mimetype": "text/x-python",
   "name": "python",
   "nbconvert_exporter": "python",
   "pygments_lexer": "ipython3",
   "version": "3.7.1"
  }
 },
 "nbformat": 4,
 "nbformat_minor": 2
}
