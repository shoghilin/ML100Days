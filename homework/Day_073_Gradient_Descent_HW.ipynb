{
 "cells": [
  {
   "cell_type": "markdown",
   "metadata": {},
   "source": [
    "# 作業重點\n",
    "\n",
    "使用function y=(x+5)² 來練習學習率( leanrning rate ) 調整所造成的影響"
   ]
  },
  {
   "cell_type": "markdown",
   "metadata": {},
   "source": [
    "# 作業目標:\n",
    "    請嘗試使用不同的組合驗證 learning rate 對所需 iteration 的影響\n",
    "    lr = [0.1, 0.0001]\n",
    "    主要驗證 Lr 對於grandient 收斂的速度\n",
    "    "
   ]
  },
  {
   "cell_type": "code",
   "execution_count": 1,
   "metadata": {},
   "outputs": [],
   "source": [
    "cur_x = 3 # The algorithm starts at x=3\n",
    "precision = 0.000001 #This tells us when to stop the algorithm\n",
    "max_iters = 10000 # maximum number of iterations\n",
    "df = lambda x: 2*(x+5) #Gradient of our function "
   ]
  },
  {
   "cell_type": "code",
   "execution_count": 2,
   "metadata": {
    "scrolled": false
   },
   "outputs": [
    {
     "name": "stdout",
     "output_type": "stream",
     "text": [
      "the learning rate is 0.1 \n",
      "Iteration 66 \n",
      "X value is -4.999996786123911\n"
     ]
    }
   ],
   "source": [
    "'''\n",
    "需要執行初始值設定, 下列三個\n",
    "# Learning rate\n",
    "#iteration counter\n",
    "#Step size  \n",
    "'''\n",
    "lr = 0.1\n",
    "iters = 0\n",
    "previous_step_size = 1\n",
    "'''\n",
    "while previous_step_size > precision and iters < max_iters:\n",
    "\n",
    "  算法迭代更新\n",
    "\n",
    "print(\"the learning rate is\",lr, \"\\nIteration\",iters,\"\\nX value is\",cur_x) #Print iterations\n",
    "'''\n",
    "\n",
    "while previous_step_size > precision and iters < max_iters:\n",
    "    prev_x = cur_x\n",
    "    cur_x = cur_x - lr * df(prev_x)\n",
    "    previous_step_size = abs(cur_x - prev_x)\n",
    "    iters += 1\n",
    "    #print(\"Iteration\",iters,\"\\nX value is\",cur_x)\n",
    "    \n",
    "print(\"the learning rate is\",lr,\"\\nIteration\",iters,\"\\nX value is\",cur_x)"
   ]
  },
  {
   "cell_type": "code",
   "execution_count": 3,
   "metadata": {},
   "outputs": [
    {
     "name": "stdout",
     "output_type": "stream",
     "text": [
      "the learning rate is 1 \n",
      "Iteration 10000 \n",
      "X value is 3 \n",
      "\n",
      "the learning rate is 0.1 \n",
      "Iteration 66 \n",
      "X value is -4.999996786123911 \n",
      "\n",
      "the learning rate is 0.01 \n",
      "Iteration 595 \n",
      "X value is -4.9999518490318176 \n",
      "\n",
      "the learning rate is 0.001 \n",
      "Iteration 4837 \n",
      "X value is -4.999501668667748 \n",
      "\n",
      "the learning rate is 0.0001 \n",
      "Iteration 10000 \n",
      "X value is -3.917534277778167 \n",
      "\n",
      "the learning rate is 1e-05 \n",
      "Iteration 10000 \n",
      "X value is 1.5498329247702465 \n",
      "\n"
     ]
    }
   ],
   "source": [
    "lrs = [1, 0.1, 0.01, 0.001, 0.0001, 0.00001]\n",
    "\n",
    "for lr in lrs:\n",
    "    cur_x = 3\n",
    "    iters = 0\n",
    "    previous_step_size = 1\n",
    "    while previous_step_size > precision and iters < max_iters:\n",
    "        prev_x = cur_x\n",
    "        cur_x = cur_x - lr * df(prev_x)\n",
    "        previous_step_size = abs(cur_x - prev_x)\n",
    "        iters += 1\n",
    "        #print(\"Iteration\",iters,\"\\nX value is\",cur_x)\n",
    "\n",
    "    print(\"the learning rate is\",lr,\"\\nIteration\",iters,\"\\nX value is\",cur_x,'\\n')"
   ]
  },
  {
   "cell_type": "markdown",
   "metadata": {},
   "source": [
    "若lr太大或太小都會導致無法收斂"
   ]
  },
  {
   "cell_type": "code",
   "execution_count": null,
   "metadata": {},
   "outputs": [],
   "source": []
  }
 ],
 "metadata": {
  "kernelspec": {
   "display_name": "Python 3",
   "language": "python",
   "name": "python3"
  },
  "language_info": {
   "codemirror_mode": {
    "name": "ipython",
    "version": 3
   },
   "file_extension": ".py",
   "mimetype": "text/x-python",
   "name": "python",
   "nbconvert_exporter": "python",
   "pygments_lexer": "ipython3",
   "version": "3.7.1"
  }
 },
 "nbformat": 4,
 "nbformat_minor": 2
}
