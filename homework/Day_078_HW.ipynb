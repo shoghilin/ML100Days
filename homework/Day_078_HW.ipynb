{
 "cells": [
  {
   "cell_type": "markdown",
   "metadata": {},
   "source": [
    "## Work\n",
    "1. 請嘗試將 preproc_x 替換成以每筆資料的 min/max 進行標準化至 -1 ~ 1 間，再進行訓練\n",
    "2. 請嘗試將 mlp 疊更深 (e.g 5~10 層)，進行訓練後觀察 learning curve 的走勢\n",
    "3. (optional) 請改用 GPU 進行訓練 (如果你有 GPU 的話)，比較使用 CPU 與 GPU 的訓練速度"
   ]
  },
  {
   "cell_type": "code",
   "execution_count": null,
   "metadata": {},
   "outputs": [],
   "source": [
    "## \n",
    "\"\"\"\n",
    "Your code here (optional)\n",
    "確認硬體資源\n",
    "\"\"\"\n"
   ]
  },
  {
   "cell_type": "code",
   "execution_count": 1,
   "metadata": {},
   "outputs": [
    {
     "name": "stderr",
     "output_type": "stream",
     "text": [
      "Using TensorFlow backend.\n"
     ]
    }
   ],
   "source": [
    "import os\n",
    "import keras\n",
    "\n",
    "# 請嘗試設定 GPU：os.environ\n"
   ]
  },
  {
   "cell_type": "code",
   "execution_count": 2,
   "metadata": {},
   "outputs": [],
   "source": [
    "train, test = keras.datasets.cifar10.load_data()"
   ]
  },
  {
   "cell_type": "code",
   "execution_count": 10,
   "metadata": {},
   "outputs": [],
   "source": [
    "## 資料前處理\n",
    "\"\"\"\n",
    "Your code here\n",
    "\"\"\"\n",
    "import numpy as np\n",
    "def preproc_x(x, flatten=True):\n",
    "    x = (x - np.mean(x)) / (x.max() - x.min())\n",
    "    if flatten:\n",
    "        x = x.reshape((len(x), -1))\n",
    "    return x\n",
    "\n",
    "def preproc_y(y, num_classes=10):\n",
    "    if y.shape[-1] == 1:\n",
    "        y = keras.utils.to_categorical(y, num_classes)\n",
    "    return y"
   ]
  },
  {
   "cell_type": "code",
   "execution_count": 11,
   "metadata": {},
   "outputs": [],
   "source": [
    "x_train, y_train = train\n",
    "x_test, y_test = test\n",
    "\n",
    "# Preproc the inputs\n",
    "x_train = preproc_x(x_train)\n",
    "x_test = preproc_x(x_test)\n",
    "\n",
    "# Preprc the outputs\n",
    "y_train = preproc_y(y_train)\n",
    "y_test = preproc_y(y_test)"
   ]
  },
  {
   "cell_type": "code",
   "execution_count": 12,
   "metadata": {},
   "outputs": [
    {
     "name": "stdout",
     "output_type": "stream",
     "text": [
      "Model: \"model_1\"\n",
      "_________________________________________________________________\n",
      "Layer (type)                 Output Shape              Param #   \n",
      "=================================================================\n",
      "input_1 (InputLayer)         (None, 3072)              0         \n",
      "_________________________________________________________________\n",
      "hidden_layer1 (Dense)        (None, 2048)              6293504   \n",
      "_________________________________________________________________\n",
      "hidden_layer2 (Dense)        (None, 1024)              2098176   \n",
      "_________________________________________________________________\n",
      "hidden_layer3 (Dense)        (None, 512)               524800    \n",
      "_________________________________________________________________\n",
      "hidden_layer4 (Dense)        (None, 256)               131328    \n",
      "_________________________________________________________________\n",
      "hidden_layer5 (Dense)        (None, 128)               32896     \n",
      "_________________________________________________________________\n",
      "hidden_layer6 (Dense)        (None, 64)                8256      \n",
      "_________________________________________________________________\n",
      "hidden_layer7 (Dense)        (None, 32)                2080      \n",
      "_________________________________________________________________\n",
      "hidden_layer8 (Dense)        (None, 16)                528       \n",
      "_________________________________________________________________\n",
      "output (Dense)               (None, 10)                170       \n",
      "=================================================================\n",
      "Total params: 9,091,738\n",
      "Trainable params: 9,091,738\n",
      "Non-trainable params: 0\n",
      "_________________________________________________________________\n"
     ]
    }
   ],
   "source": [
    "\"\"\"Code Here\n",
    "建立你的神經網路\n",
    "\"\"\"\n",
    "def build_mlp(input_shape, output_units=10, num_neurons=[2048, 1024, 512, 256, 128, 64, 32, 16]):\n",
    "    input_layer = keras.layers.Input(input_shape)\n",
    "    \n",
    "    for i, n_units in enumerate(num_neurons):\n",
    "        if i == 0:\n",
    "            x = keras.layers.Dense(units=n_units, activation='relu', name='hidden_layer'+str(i+1))(input_layer)\n",
    "        else:\n",
    "            x = keras.layers.Dense(units=n_units, activation='relu', name='hidden_layer'+str(i+1))(x)\n",
    "            \n",
    "    out = keras.layers.Dense(units=output_units, activation='softmax', name='output')(x)\n",
    "    \n",
    "    model = keras.models.Model(inputs=[input_layer], outputs=[out])\n",
    "    return model\n",
    "\n",
    "model = build_mlp(input_shape=x_train.shape[1:])\n",
    "model.summary()"
   ]
  },
  {
   "cell_type": "code",
   "execution_count": 13,
   "metadata": {},
   "outputs": [],
   "source": [
    "## 超參數設定\n",
    "LEARNING_RATE = 0.001\n",
    "EPOCHS = 100\n",
    "BATCH_SIZE = 256"
   ]
  },
  {
   "cell_type": "code",
   "execution_count": 14,
   "metadata": {},
   "outputs": [],
   "source": [
    "optimizer = keras.optimizers.Adam(lr=LEARNING_RATE)\n",
    "model.compile(loss=\"categorical_crossentropy\", metrics=[\"accuracy\"], optimizer=optimizer)"
   ]
  },
  {
   "cell_type": "code",
   "execution_count": 15,
   "metadata": {},
   "outputs": [
    {
     "name": "stdout",
     "output_type": "stream",
     "text": [
      "Train on 50000 samples, validate on 10000 samples\n",
      "Epoch 1/100\n",
      "50000/50000 [==============================] - 60s 1ms/step - loss: 1.8476 - accuracy: 0.3393 - val_loss: 1.6250 - val_accuracy: 0.4199\n",
      "Epoch 2/100\n",
      "50000/50000 [==============================] - 60s 1ms/step - loss: 1.5514 - accuracy: 0.4546 - val_loss: 1.4965 - val_accuracy: 0.4769\n",
      "Epoch 3/100\n",
      "50000/50000 [==============================] - 61s 1ms/step - loss: 1.4107 - accuracy: 0.5075 - val_loss: 1.4557 - val_accuracy: 0.4930\n",
      "Epoch 4/100\n",
      "50000/50000 [==============================] - 61s 1ms/step - loss: 1.3040 - accuracy: 0.5437 - val_loss: 1.4089 - val_accuracy: 0.5089\n",
      "Epoch 5/100\n",
      "50000/50000 [==============================] - 64s 1ms/step - loss: 1.2016 - accuracy: 0.5791 - val_loss: 1.3472 - val_accuracy: 0.5396\n",
      "Epoch 6/100\n",
      "50000/50000 [==============================] - 65s 1ms/step - loss: 1.1072 - accuracy: 0.6113 - val_loss: 1.3670 - val_accuracy: 0.5353\n",
      "Epoch 7/100\n",
      "50000/50000 [==============================] - 65s 1ms/step - loss: 1.0175 - accuracy: 0.6403 - val_loss: 1.3858 - val_accuracy: 0.5414\n",
      "Epoch 8/100\n",
      "50000/50000 [==============================] - 66s 1ms/step - loss: 0.9256 - accuracy: 0.6730 - val_loss: 1.3865 - val_accuracy: 0.5497\n",
      "Epoch 9/100\n",
      "50000/50000 [==============================] - 65s 1ms/step - loss: 0.8314 - accuracy: 0.7073 - val_loss: 1.4114 - val_accuracy: 0.5552\n",
      "Epoch 10/100\n",
      "50000/50000 [==============================] - 67s 1ms/step - loss: 0.7574 - accuracy: 0.7289 - val_loss: 1.4472 - val_accuracy: 0.5547\n",
      "Epoch 11/100\n",
      "50000/50000 [==============================] - 66s 1ms/step - loss: 0.6690 - accuracy: 0.7622 - val_loss: 1.5721 - val_accuracy: 0.5555\n",
      "Epoch 12/100\n",
      "50000/50000 [==============================] - 66s 1ms/step - loss: 0.5918 - accuracy: 0.7917 - val_loss: 1.5823 - val_accuracy: 0.5524\n",
      "Epoch 13/100\n",
      "50000/50000 [==============================] - 66s 1ms/step - loss: 0.5175 - accuracy: 0.8176 - val_loss: 1.7645 - val_accuracy: 0.5502\n",
      "Epoch 14/100\n",
      "50000/50000 [==============================] - 67s 1ms/step - loss: 0.4668 - accuracy: 0.8344 - val_loss: 1.8273 - val_accuracy: 0.5516\n",
      "Epoch 15/100\n",
      "50000/50000 [==============================] - 67s 1ms/step - loss: 0.4140 - accuracy: 0.8545 - val_loss: 1.8535 - val_accuracy: 0.5483\n",
      "Epoch 16/100\n",
      "50000/50000 [==============================] - 66s 1ms/step - loss: 0.3579 - accuracy: 0.8751 - val_loss: 2.0674 - val_accuracy: 0.5392\n",
      "Epoch 17/100\n",
      "50000/50000 [==============================] - 66s 1ms/step - loss: 0.3273 - accuracy: 0.8865 - val_loss: 2.1161 - val_accuracy: 0.5544\n",
      "Epoch 18/100\n",
      "50000/50000 [==============================] - 66s 1ms/step - loss: 0.2903 - accuracy: 0.8983 - val_loss: 2.2879 - val_accuracy: 0.5523\n",
      "Epoch 19/100\n",
      "50000/50000 [==============================] - 67s 1ms/step - loss: 0.2604 - accuracy: 0.9103 - val_loss: 2.3901 - val_accuracy: 0.5472\n",
      "Epoch 20/100\n",
      "50000/50000 [==============================] - 66s 1ms/step - loss: 0.2417 - accuracy: 0.9186 - val_loss: 2.2944 - val_accuracy: 0.5552\n",
      "Epoch 21/100\n",
      "50000/50000 [==============================] - 67s 1ms/step - loss: 0.2210 - accuracy: 0.9247 - val_loss: 2.5042 - val_accuracy: 0.5540\n",
      "Epoch 22/100\n",
      "50000/50000 [==============================] - 67s 1ms/step - loss: 0.2037 - accuracy: 0.9306 - val_loss: 2.5331 - val_accuracy: 0.5530\n",
      "Epoch 23/100\n",
      "50000/50000 [==============================] - 76s 2ms/step - loss: 0.1794 - accuracy: 0.9403 - val_loss: 2.7074 - val_accuracy: 0.5582\n",
      "Epoch 24/100\n",
      "50000/50000 [==============================] - 66s 1ms/step - loss: 0.1730 - accuracy: 0.9425 - val_loss: 2.6117 - val_accuracy: 0.5472\n",
      "Epoch 25/100\n",
      "50000/50000 [==============================] - 66s 1ms/step - loss: 0.1680 - accuracy: 0.9435 - val_loss: 2.8483 - val_accuracy: 0.5535\n",
      "Epoch 26/100\n",
      "50000/50000 [==============================] - 70s 1ms/step - loss: 0.1566 - accuracy: 0.9485 - val_loss: 2.7668 - val_accuracy: 0.5499\n",
      "Epoch 27/100\n",
      "50000/50000 [==============================] - 68s 1ms/step - loss: 0.1473 - accuracy: 0.9519 - val_loss: 2.8157 - val_accuracy: 0.5496\n",
      "Epoch 28/100\n",
      "50000/50000 [==============================] - 66s 1ms/step - loss: 0.1401 - accuracy: 0.9544 - val_loss: 2.6042 - val_accuracy: 0.5530\n",
      "Epoch 29/100\n",
      "50000/50000 [==============================] - 68s 1ms/step - loss: 0.1222 - accuracy: 0.9595 - val_loss: 2.6877 - val_accuracy: 0.5524\n",
      "Epoch 30/100\n",
      "50000/50000 [==============================] - 68s 1ms/step - loss: 0.1132 - accuracy: 0.9626 - val_loss: 2.9880 - val_accuracy: 0.5586\n",
      "Epoch 31/100\n",
      "50000/50000 [==============================] - 69s 1ms/step - loss: 0.1241 - accuracy: 0.9593 - val_loss: 2.8842 - val_accuracy: 0.5605\n",
      "Epoch 32/100\n",
      "50000/50000 [==============================] - 68s 1ms/step - loss: 0.1109 - accuracy: 0.9633 - val_loss: 2.9645 - val_accuracy: 0.5526\n",
      "Epoch 33/100\n",
      "50000/50000 [==============================] - 71s 1ms/step - loss: 0.1070 - accuracy: 0.9652 - val_loss: 3.0412 - val_accuracy: 0.5588\n",
      "Epoch 34/100\n",
      "50000/50000 [==============================] - 69s 1ms/step - loss: 0.1011 - accuracy: 0.9667 - val_loss: 3.0844 - val_accuracy: 0.5514\n",
      "Epoch 35/100\n",
      "50000/50000 [==============================] - 68s 1ms/step - loss: 0.1044 - accuracy: 0.9670 - val_loss: 2.9006 - val_accuracy: 0.5583\n",
      "Epoch 36/100\n",
      "50000/50000 [==============================] - 68s 1ms/step - loss: 0.1066 - accuracy: 0.9668 - val_loss: 2.8807 - val_accuracy: 0.5519\n",
      "Epoch 37/100\n",
      "50000/50000 [==============================] - 68s 1ms/step - loss: 0.0951 - accuracy: 0.9697 - val_loss: 3.0442 - val_accuracy: 0.5606\n",
      "Epoch 38/100\n",
      "50000/50000 [==============================] - 68s 1ms/step - loss: 0.0963 - accuracy: 0.9692 - val_loss: 2.9931 - val_accuracy: 0.5549\n",
      "Epoch 39/100\n",
      "50000/50000 [==============================] - 68s 1ms/step - loss: 0.0952 - accuracy: 0.9694 - val_loss: 3.1299 - val_accuracy: 0.5555\n",
      "Epoch 40/100\n",
      "50000/50000 [==============================] - 68s 1ms/step - loss: 0.0840 - accuracy: 0.9739 - val_loss: 3.3201 - val_accuracy: 0.5564\n",
      "Epoch 41/100\n",
      "50000/50000 [==============================] - 67s 1ms/step - loss: 0.0789 - accuracy: 0.9754 - val_loss: 3.0928 - val_accuracy: 0.5511\n",
      "Epoch 42/100\n",
      "50000/50000 [==============================] - 67s 1ms/step - loss: 0.0849 - accuracy: 0.9738 - val_loss: 2.8868 - val_accuracy: 0.5527\n",
      "Epoch 43/100\n",
      "50000/50000 [==============================] - 67s 1ms/step - loss: 0.0861 - accuracy: 0.9727 - val_loss: 3.2254 - val_accuracy: 0.5480\n",
      "Epoch 44/100\n",
      "50000/50000 [==============================] - 67s 1ms/step - loss: 0.0849 - accuracy: 0.9733 - val_loss: 3.0734 - val_accuracy: 0.5544\n",
      "Epoch 45/100\n",
      "50000/50000 [==============================] - 68s 1ms/step - loss: 0.0817 - accuracy: 0.9749 - val_loss: 2.9727 - val_accuracy: 0.5510\n",
      "Epoch 46/100\n",
      "50000/50000 [==============================] - 67s 1ms/step - loss: 0.0703 - accuracy: 0.9780 - val_loss: 3.1385 - val_accuracy: 0.5585\n",
      "Epoch 47/100\n",
      "50000/50000 [==============================] - 67s 1ms/step - loss: 0.0709 - accuracy: 0.9777 - val_loss: 2.8267 - val_accuracy: 0.5508\n",
      "Epoch 48/100\n",
      "50000/50000 [==============================] - 66s 1ms/step - loss: 0.0745 - accuracy: 0.9763 - val_loss: 3.0280 - val_accuracy: 0.5500\n",
      "Epoch 49/100\n",
      "50000/50000 [==============================] - 68s 1ms/step - loss: 0.0836 - accuracy: 0.9738 - val_loss: 2.9228 - val_accuracy: 0.5611\n",
      "Epoch 50/100\n",
      "50000/50000 [==============================] - 67s 1ms/step - loss: 0.0684 - accuracy: 0.9789 - val_loss: 3.1445 - val_accuracy: 0.5517\n",
      "Epoch 51/100\n",
      "50000/50000 [==============================] - 68s 1ms/step - loss: 0.0676 - accuracy: 0.9792 - val_loss: 3.1627 - val_accuracy: 0.5491\n",
      "Epoch 52/100\n",
      "50000/50000 [==============================] - 68s 1ms/step - loss: 0.0705 - accuracy: 0.9776 - val_loss: 2.9676 - val_accuracy: 0.5524\n",
      "Epoch 53/100\n",
      "50000/50000 [==============================] - 68s 1ms/step - loss: 0.0640 - accuracy: 0.9798 - val_loss: 3.1168 - val_accuracy: 0.5528\n",
      "Epoch 54/100\n",
      "50000/50000 [==============================] - 67s 1ms/step - loss: 0.0568 - accuracy: 0.9823 - val_loss: 3.2106 - val_accuracy: 0.5575\n",
      "Epoch 55/100\n",
      "50000/50000 [==============================] - 67s 1ms/step - loss: 0.0739 - accuracy: 0.9783 - val_loss: 2.9635 - val_accuracy: 0.5560\n"
     ]
    },
    {
     "name": "stdout",
     "output_type": "stream",
     "text": [
      "Epoch 56/100\n",
      "50000/50000 [==============================] - 66s 1ms/step - loss: 0.0685 - accuracy: 0.9791 - val_loss: 2.8979 - val_accuracy: 0.5452\n",
      "Epoch 57/100\n",
      "50000/50000 [==============================] - 67s 1ms/step - loss: 0.0628 - accuracy: 0.9799 - val_loss: 3.3213 - val_accuracy: 0.5561\n",
      "Epoch 58/100\n",
      "50000/50000 [==============================] - 69s 1ms/step - loss: 0.0608 - accuracy: 0.9810 - val_loss: 3.2347 - val_accuracy: 0.5564\n",
      "Epoch 59/100\n",
      "50000/50000 [==============================] - 66s 1ms/step - loss: 0.0538 - accuracy: 0.9829 - val_loss: 3.3353 - val_accuracy: 0.5547\n",
      "Epoch 60/100\n",
      "50000/50000 [==============================] - 66s 1ms/step - loss: 0.0651 - accuracy: 0.9803 - val_loss: 2.9329 - val_accuracy: 0.5528\n",
      "Epoch 61/100\n",
      "50000/50000 [==============================] - 66s 1ms/step - loss: 0.0641 - accuracy: 0.9805 - val_loss: 2.9828 - val_accuracy: 0.5502\n",
      "Epoch 62/100\n",
      "50000/50000 [==============================] - 66s 1ms/step - loss: 0.0573 - accuracy: 0.9825 - val_loss: 3.0888 - val_accuracy: 0.5538\n",
      "Epoch 63/100\n",
      "50000/50000 [==============================] - 66s 1ms/step - loss: 0.0544 - accuracy: 0.9828 - val_loss: 3.3928 - val_accuracy: 0.5553\n",
      "Epoch 64/100\n",
      "50000/50000 [==============================] - 66s 1ms/step - loss: 0.0646 - accuracy: 0.9810 - val_loss: 3.1360 - val_accuracy: 0.5568\n",
      "Epoch 65/100\n",
      "50000/50000 [==============================] - 67s 1ms/step - loss: 0.0515 - accuracy: 0.9837 - val_loss: 3.0491 - val_accuracy: 0.5462\n",
      "Epoch 66/100\n",
      "50000/50000 [==============================] - 71s 1ms/step - loss: 0.0649 - accuracy: 0.9808 - val_loss: 3.1656 - val_accuracy: 0.5512\n",
      "Epoch 67/100\n",
      "50000/50000 [==============================] - 76s 2ms/step - loss: 0.0569 - accuracy: 0.9826 - val_loss: 3.1423 - val_accuracy: 0.5559\n",
      "Epoch 68/100\n",
      "50000/50000 [==============================] - 79s 2ms/step - loss: 0.0568 - accuracy: 0.9826 - val_loss: 3.1911 - val_accuracy: 0.5572\n",
      "Epoch 69/100\n",
      "50000/50000 [==============================] - 77s 2ms/step - loss: 0.0479 - accuracy: 0.9851 - val_loss: 3.3569 - val_accuracy: 0.5555\n",
      "Epoch 70/100\n",
      "50000/50000 [==============================] - 85s 2ms/step - loss: 0.0509 - accuracy: 0.9853 - val_loss: 3.0319 - val_accuracy: 0.5546\n",
      "Epoch 71/100\n",
      "50000/50000 [==============================] - 75s 1ms/step - loss: 0.0579 - accuracy: 0.9828 - val_loss: 3.1001 - val_accuracy: 0.5561\n",
      "Epoch 72/100\n",
      "50000/50000 [==============================] - 74s 1ms/step - loss: 0.0474 - accuracy: 0.9861 - val_loss: 3.3796 - val_accuracy: 0.5566\n",
      "Epoch 73/100\n",
      "50000/50000 [==============================] - 66s 1ms/step - loss: 0.0440 - accuracy: 0.9873 - val_loss: 3.2683 - val_accuracy: 0.5557\n",
      "Epoch 74/100\n",
      "50000/50000 [==============================] - 66s 1ms/step - loss: 0.0505 - accuracy: 0.9848 - val_loss: 3.3869 - val_accuracy: 0.5534\n",
      "Epoch 75/100\n",
      "50000/50000 [==============================] - 65s 1ms/step - loss: 0.0464 - accuracy: 0.9856 - val_loss: 3.5948 - val_accuracy: 0.5637\n",
      "Epoch 76/100\n",
      "50000/50000 [==============================] - 66s 1ms/step - loss: 0.0577 - accuracy: 0.9836 - val_loss: 3.1100 - val_accuracy: 0.5466\n",
      "Epoch 77/100\n",
      "50000/50000 [==============================] - 76s 2ms/step - loss: 0.0471 - accuracy: 0.9855 - val_loss: 3.1557 - val_accuracy: 0.5544\n",
      "Epoch 78/100\n",
      "50000/50000 [==============================] - 74s 1ms/step - loss: 0.0487 - accuracy: 0.9853 - val_loss: 3.1173 - val_accuracy: 0.5529\n",
      "Epoch 79/100\n",
      "50000/50000 [==============================] - 70s 1ms/step - loss: 0.0562 - accuracy: 0.9837 - val_loss: 3.1362 - val_accuracy: 0.5557\n",
      "Epoch 80/100\n",
      "50000/50000 [==============================] - 66s 1ms/step - loss: 0.0461 - accuracy: 0.9867 - val_loss: 3.3385 - val_accuracy: 0.5541\n",
      "Epoch 81/100\n",
      "50000/50000 [==============================] - 65s 1ms/step - loss: 0.0458 - accuracy: 0.9863 - val_loss: 3.1074 - val_accuracy: 0.5529\n",
      "Epoch 82/100\n",
      "50000/50000 [==============================] - 65s 1ms/step - loss: 0.0526 - accuracy: 0.9849 - val_loss: 3.1039 - val_accuracy: 0.5625\n",
      "Epoch 83/100\n",
      "50000/50000 [==============================] - 65s 1ms/step - loss: 0.0423 - accuracy: 0.9875 - val_loss: 3.3948 - val_accuracy: 0.5561\n",
      "Epoch 84/100\n",
      "50000/50000 [==============================] - 66s 1ms/step - loss: 0.0508 - accuracy: 0.9849 - val_loss: 3.2127 - val_accuracy: 0.5570\n",
      "Epoch 85/100\n",
      "50000/50000 [==============================] - 65s 1ms/step - loss: 0.0414 - accuracy: 0.9877 - val_loss: 3.3528 - val_accuracy: 0.5581\n",
      "Epoch 86/100\n",
      "50000/50000 [==============================] - 67s 1ms/step - loss: 0.0434 - accuracy: 0.9871 - val_loss: 3.3479 - val_accuracy: 0.5584\n",
      "Epoch 87/100\n",
      "50000/50000 [==============================] - 67s 1ms/step - loss: 0.0446 - accuracy: 0.9866 - val_loss: 3.2212 - val_accuracy: 0.5555\n",
      "Epoch 88/100\n",
      "50000/50000 [==============================] - 65s 1ms/step - loss: 0.0400 - accuracy: 0.9882 - val_loss: 3.3506 - val_accuracy: 0.5563\n",
      "Epoch 89/100\n",
      "50000/50000 [==============================] - 66s 1ms/step - loss: 0.0441 - accuracy: 0.9874 - val_loss: 3.2378 - val_accuracy: 0.5525\n",
      "Epoch 90/100\n",
      "50000/50000 [==============================] - 68s 1ms/step - loss: 0.0380 - accuracy: 0.9887 - val_loss: 3.5759 - val_accuracy: 0.5530\n",
      "Epoch 91/100\n",
      "50000/50000 [==============================] - 68s 1ms/step - loss: 0.0433 - accuracy: 0.9868 - val_loss: 3.1279 - val_accuracy: 0.5582\n",
      "Epoch 92/100\n",
      "50000/50000 [==============================] - 68s 1ms/step - loss: 0.0417 - accuracy: 0.9878 - val_loss: 3.3397 - val_accuracy: 0.5544\n",
      "Epoch 93/100\n",
      "50000/50000 [==============================] - 68s 1ms/step - loss: 0.0398 - accuracy: 0.9877 - val_loss: 3.7574 - val_accuracy: 0.5575\n",
      "Epoch 94/100\n",
      "50000/50000 [==============================] - 68s 1ms/step - loss: 0.0389 - accuracy: 0.9886 - val_loss: 3.4932 - val_accuracy: 0.5522\n",
      "Epoch 95/100\n",
      "50000/50000 [==============================] - 68s 1ms/step - loss: 0.0440 - accuracy: 0.9870 - val_loss: 3.3314 - val_accuracy: 0.5559\n",
      "Epoch 96/100\n",
      "50000/50000 [==============================] - 68s 1ms/step - loss: 0.0402 - accuracy: 0.9888 - val_loss: 3.4273 - val_accuracy: 0.5561\n",
      "Epoch 97/100\n",
      "50000/50000 [==============================] - 68s 1ms/step - loss: 0.0325 - accuracy: 0.9906 - val_loss: 3.4034 - val_accuracy: 0.5526\n",
      "Epoch 98/100\n",
      "50000/50000 [==============================] - 70s 1ms/step - loss: 0.0432 - accuracy: 0.9875 - val_loss: 3.2811 - val_accuracy: 0.5610\n",
      "Epoch 99/100\n",
      "50000/50000 [==============================] - 69s 1ms/step - loss: 0.0374 - accuracy: 0.9888 - val_loss: 3.4122 - val_accuracy: 0.5503\n",
      "Epoch 100/100\n",
      "50000/50000 [==============================] - 68s 1ms/step - loss: 0.0407 - accuracy: 0.9880 - val_loss: 3.2718 - val_accuracy: 0.5604\n"
     ]
    },
    {
     "data": {
      "text/plain": [
       "<keras.callbacks.callbacks.History at 0x153c594c048>"
      ]
     },
     "execution_count": 15,
     "metadata": {},
     "output_type": "execute_result"
    }
   ],
   "source": [
    "model.fit(x_train, y_train, \n",
    "          epochs=EPOCHS, \n",
    "          batch_size=BATCH_SIZE, \n",
    "          validation_data=(x_test, y_test), \n",
    "          shuffle=True)"
   ]
  },
  {
   "cell_type": "code",
   "execution_count": 16,
   "metadata": {},
   "outputs": [
    {
     "data": {
      "image/png": "[encoded data removed]",
      "text/plain": [
       "<Figure size 432x288 with 1 Axes>"
      ]
     },
     "metadata": {
      "needs_background": "light"
     },
     "output_type": "display_data"
    },
    {
     "data": {
      "image/png": "[encoded data removed]",
      "text/plain": [
       "<Figure size 432x288 with 1 Axes>"
      ]
     },
     "metadata": {
      "needs_background": "light"
     },
     "output_type": "display_data"
    }
   ],
   "source": [
    "import matplotlib.pyplot as plt\n",
    "\n",
    "\n",
    "train_loss = model.history.history[\"loss\"]\n",
    "valid_loss = model.history.history[\"val_loss\"]\n",
    "\n",
    "train_acc = model.history.history[\"accuracy\"]\n",
    "valid_acc = model.history.history[\"val_accuracy\"]\n",
    "\n",
    "plt.plot(range(len(train_loss)), train_loss, label=\"train loss\")\n",
    "plt.plot(range(len(valid_loss)), valid_loss, label=\"valid loss\")\n",
    "plt.legend()\n",
    "plt.title(\"Loss\")\n",
    "plt.show()\n",
    "\n",
    "plt.plot(range(len(train_acc)), train_acc, label=\"train accuracy\")\n",
    "plt.plot(range(len(valid_acc)), valid_acc, label=\"valid accuracy\")\n",
    "plt.legend()\n",
    "plt.title(\"Accuracy\")\n",
    "plt.show()"
   ]
  },
  {
   "cell_type": "code",
   "execution_count": null,
   "metadata": {},
   "outputs": [],
   "source": []
  }
 ],
 "metadata": {
  "kernelspec": {
   "display_name": "Python 3",
   "language": "python",
   "name": "python3"
  },
  "language_info": {
   "codemirror_mode": {
    "name": "ipython",
    "version": 3
   },
   "file_extension": ".py",
   "mimetype": "text/x-python",
   "name": "python",
   "nbconvert_exporter": "python",
   "pygments_lexer": "ipython3",
   "version": "3.7.1"
  }
 },
 "nbformat": 4,
 "nbformat_minor": 2
}
