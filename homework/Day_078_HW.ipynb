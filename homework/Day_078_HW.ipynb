{
 "cells": [
  {
   "cell_type": "markdown",
   "metadata": {},
   "source": [
    "## Work\n",
    "1. 請嘗試將 preproc_x 替換成以每筆資料的 min/max 進行標準化至 -1 ~ 1 間，再進行訓練\n",
    "2. 請嘗試將 mlp 疊更深 (e.g 5~10 層)，進行訓練後觀察 learning curve 的走勢\n",
    "3. (optional) 請改用 GPU 進行訓練 (如果你有 GPU 的話)，比較使用 CPU 與 GPU 的訓練速度"
   ]
  },
  {
   "cell_type": "code",
   "execution_count": 1,
   "metadata": {},
   "outputs": [
    {
     "data": {
      "text/plain": [
       "'\\nYour code here (optional)\\n確認硬體資源\\n'"
      ]
     },
     "execution_count": 1,
     "metadata": {},
     "output_type": "execute_result"
    }
   ],
   "source": [
    "## \n",
    "\"\"\"\n",
    "Your code here (optional)\n",
    "確認硬體資源\n",
    "\"\"\"\n"
   ]
  },
  {
   "cell_type": "code",
   "execution_count": 2,
   "metadata": {},
   "outputs": [
    {
     "name": "stderr",
     "output_type": "stream",
     "text": [
      "Using TensorFlow backend.\n"
     ]
    }
   ],
   "source": [
    "import os\n",
    "import keras\n",
    "\n",
    "# 請嘗試設定 GPU：os.environ\n",
    "os.environ[\"CUDA_VISIBLE_DEVICES\"] = \"0\""
   ]
  },
  {
   "cell_type": "code",
   "execution_count": 3,
   "metadata": {},
   "outputs": [],
   "source": [
    "train, test = keras.datasets.cifar10.load_data()"
   ]
  },
  {
   "cell_type": "code",
   "execution_count": 4,
   "metadata": {},
   "outputs": [],
   "source": [
    "## 資料前處理\n",
    "\"\"\"\n",
    "Your code here\n",
    "\"\"\"\n",
    "import numpy as np\n",
    "def preproc_x(x, flatten=True):\n",
    "    x = (x - np.mean(x)) / (x.max() - x.min())\n",
    "    if flatten:\n",
    "        x = x.reshape((len(x), -1))\n",
    "    return x\n",
    "\n",
    "def preproc_y(y, num_classes=10):\n",
    "    if y.shape[-1] == 1:\n",
    "        y = keras.utils.to_categorical(y, num_classes)\n",
    "    return y"
   ]
  },
  {
   "cell_type": "code",
   "execution_count": 5,
   "metadata": {},
   "outputs": [],
   "source": [
    "x_train, y_train = train\n",
    "x_test, y_test = test\n",
    "\n",
    "# Preproc the inputs\n",
    "x_train = preproc_x(x_train)\n",
    "x_test = preproc_x(x_test)\n",
    "\n",
    "# Preprc the outputs\n",
    "y_train = preproc_y(y_train)\n",
    "y_test = preproc_y(y_test)"
   ]
  },
  {
   "cell_type": "code",
   "execution_count": 6,
   "metadata": {},
   "outputs": [
    {
     "name": "stdout",
     "output_type": "stream",
     "text": [
      "Model: \"model_1\"\n",
      "_________________________________________________________________\n",
      "Layer (type)                 Output Shape              Param #   \n",
      "=================================================================\n",
      "input_1 (InputLayer)         (None, 3072)              0         \n",
      "_________________________________________________________________\n",
      "hidden_layer1 (Dense)        (None, 512)               1573376   \n",
      "_________________________________________________________________\n",
      "hidden_layer2 (Dense)        (None, 256)               131328    \n",
      "_________________________________________________________________\n",
      "hidden_layer3 (Dense)        (None, 128)               32896     \n",
      "_________________________________________________________________\n",
      "hidden_layer4 (Dense)        (None, 128)               16512     \n",
      "_________________________________________________________________\n",
      "hidden_layer5 (Dense)        (None, 128)               16512     \n",
      "_________________________________________________________________\n",
      "hidden_layer6 (Dense)        (None, 128)               16512     \n",
      "_________________________________________________________________\n",
      "output (Dense)               (None, 10)                1290      \n",
      "=================================================================\n",
      "Total params: 1,788,426\n",
      "Trainable params: 1,788,426\n",
      "Non-trainable params: 0\n",
      "_________________________________________________________________\n"
     ]
    }
   ],
   "source": [
    "\"\"\"Code Here\n",
    "建立你的神經網路\n",
    "\"\"\"\n",
    "def build_mlp(input_shape, output_units=10, num_neurons=[512, 256, 128, 128, 128, 128]):\n",
    "    input_layer = keras.layers.Input(input_shape)\n",
    "    \n",
    "    for i, n_units in enumerate(num_neurons):\n",
    "        if i == 0:\n",
    "            x = keras.layers.Dense(units=n_units, activation='relu', name='hidden_layer'+str(i+1))(input_layer)\n",
    "        else:\n",
    "            x = keras.layers.Dense(units=n_units, activation='relu', name='hidden_layer'+str(i+1))(x)\n",
    "            \n",
    "    out = keras.layers.Dense(units=output_units, activation='softmax', name='output')(x)\n",
    "    \n",
    "    model = keras.models.Model(inputs=[input_layer], outputs=[out])\n",
    "    return model\n",
    "\n",
    "model = build_mlp(input_shape=x_train.shape[1:])\n",
    "model.summary()"
   ]
  },
  {
   "cell_type": "code",
   "execution_count": 7,
   "metadata": {},
   "outputs": [],
   "source": [
    "## 超參數設定\n",
    "LEARNING_RATE = 0.001\n",
    "EPOCHS = 100\n",
    "BATCH_SIZE = 256"
   ]
  },
  {
   "cell_type": "code",
   "execution_count": 8,
   "metadata": {},
   "outputs": [],
   "source": [
    "optimizer = keras.optimizers.Adam(lr=LEARNING_RATE)\n",
    "model.compile(loss=\"categorical_crossentropy\", metrics=[\"accuracy\"], optimizer=optimizer)"
   ]
  },
  {
   "cell_type": "code",
   "execution_count": 9,
   "metadata": {},
   "outputs": [
    {
     "name": "stdout",
     "output_type": "stream",
     "text": [
      "Train on 50000 samples, validate on 10000 samples\n",
      "Epoch 1/100\n",
      "50000/50000 [==============================] - 12s 244us/step - loss: 1.6961 - accuracy: 0.3947 - val_loss: 1.5322 - val_accuracy: 0.4633\n",
      "Epoch 2/100\n",
      "50000/50000 [==============================] - 12s 247us/step - loss: 1.4562 - accuracy: 0.4826 - val_loss: 1.4423 - val_accuracy: 0.4938\n",
      "Epoch 3/100\n",
      "50000/50000 [==============================] - 13s 256us/step - loss: 1.3356 - accuracy: 0.5285 - val_loss: 1.4151 - val_accuracy: 0.4997\n",
      "Epoch 4/100\n",
      "50000/50000 [==============================] - 13s 256us/step - loss: 1.2359 - accuracy: 0.5652 - val_loss: 1.3888 - val_accuracy: 0.5113\n",
      "Epoch 5/100\n",
      "50000/50000 [==============================] - 13s 261us/step - loss: 1.1548 - accuracy: 0.5918 - val_loss: 1.3326 - val_accuracy: 0.5320\n",
      "Epoch 6/100\n",
      "50000/50000 [==============================] - 13s 253us/step - loss: 1.0756 - accuracy: 0.6170 - val_loss: 1.3407 - val_accuracy: 0.5325\n",
      "Epoch 7/100\n",
      "50000/50000 [==============================] - 13s 267us/step - loss: 0.9992 - accuracy: 0.6435 - val_loss: 1.3920 - val_accuracy: 0.5272\n",
      "Epoch 8/100\n",
      "50000/50000 [==============================] - 13s 262us/step - loss: 0.9316 - accuracy: 0.6699 - val_loss: 1.3932 - val_accuracy: 0.5340\n",
      "Epoch 9/100\n",
      "50000/50000 [==============================] - 14s 280us/step - loss: 0.8601 - accuracy: 0.6944 - val_loss: 1.4108 - val_accuracy: 0.5399\n",
      "Epoch 10/100\n",
      "50000/50000 [==============================] - 14s 271us/step - loss: 0.7862 - accuracy: 0.7209 - val_loss: 1.4368 - val_accuracy: 0.5333\n",
      "Epoch 11/100\n",
      "50000/50000 [==============================] - 14s 271us/step - loss: 0.7279 - accuracy: 0.7428 - val_loss: 1.4990 - val_accuracy: 0.5447\n",
      "Epoch 12/100\n",
      "50000/50000 [==============================] - 14s 276us/step - loss: 0.6669 - accuracy: 0.7638 - val_loss: 1.5573 - val_accuracy: 0.5361\n",
      "Epoch 13/100\n",
      "50000/50000 [==============================] - 13s 269us/step - loss: 0.6106 - accuracy: 0.7852 - val_loss: 1.6681 - val_accuracy: 0.5342\n",
      "Epoch 14/100\n",
      "50000/50000 [==============================] - 14s 279us/step - loss: 0.5648 - accuracy: 0.7978 - val_loss: 1.7224 - val_accuracy: 0.5444\n",
      "Epoch 15/100\n",
      "50000/50000 [==============================] - 14s 273us/step - loss: 0.5072 - accuracy: 0.8218 - val_loss: 1.7941 - val_accuracy: 0.5363\n",
      "Epoch 16/100\n",
      "50000/50000 [==============================] - 14s 285us/step - loss: 0.4707 - accuracy: 0.8326 - val_loss: 1.8328 - val_accuracy: 0.5427\n",
      "Epoch 17/100\n",
      "50000/50000 [==============================] - 14s 274us/step - loss: 0.4400 - accuracy: 0.8442 - val_loss: 1.9426 - val_accuracy: 0.5404\n",
      "Epoch 18/100\n",
      "50000/50000 [==============================] - 14s 280us/step - loss: 0.3899 - accuracy: 0.8626 - val_loss: 2.0401 - val_accuracy: 0.5292\n",
      "Epoch 19/100\n",
      "50000/50000 [==============================] - 14s 272us/step - loss: 0.3716 - accuracy: 0.8703 - val_loss: 2.0838 - val_accuracy: 0.5414\n",
      "Epoch 20/100\n",
      "50000/50000 [==============================] - 14s 279us/step - loss: 0.3322 - accuracy: 0.8823 - val_loss: 2.2286 - val_accuracy: 0.5361\n",
      "Epoch 21/100\n",
      "50000/50000 [==============================] - 14s 281us/step - loss: 0.3254 - accuracy: 0.8865 - val_loss: 2.3161 - val_accuracy: 0.5312\n",
      "Epoch 22/100\n",
      "50000/50000 [==============================] - 14s 278us/step - loss: 0.2951 - accuracy: 0.8960 - val_loss: 2.3530 - val_accuracy: 0.5316\n",
      "Epoch 23/100\n",
      "50000/50000 [==============================] - 14s 278us/step - loss: 0.2756 - accuracy: 0.9021 - val_loss: 2.4690 - val_accuracy: 0.5375\n",
      "Epoch 24/100\n",
      "50000/50000 [==============================] - 14s 277us/step - loss: 0.2594 - accuracy: 0.9095 - val_loss: 2.5108 - val_accuracy: 0.5368\n",
      "Epoch 25/100\n",
      "50000/50000 [==============================] - 14s 282us/step - loss: 0.2408 - accuracy: 0.9159 - val_loss: 2.5273 - val_accuracy: 0.5380\n",
      "Epoch 26/100\n",
      "50000/50000 [==============================] - 14s 276us/step - loss: 0.2305 - accuracy: 0.9199 - val_loss: 2.7652 - val_accuracy: 0.5356\n",
      "Epoch 27/100\n",
      "50000/50000 [==============================] - 14s 282us/step - loss: 0.2171 - accuracy: 0.9242 - val_loss: 2.6702 - val_accuracy: 0.5417\n",
      "Epoch 28/100\n",
      "50000/50000 [==============================] - 14s 279us/step - loss: 0.2221 - accuracy: 0.9233 - val_loss: 2.7350 - val_accuracy: 0.5382\n",
      "Epoch 29/100\n",
      "50000/50000 [==============================] - 15s 294us/step - loss: 0.1972 - accuracy: 0.9315 - val_loss: 2.7544 - val_accuracy: 0.5281\n",
      "Epoch 30/100\n",
      "50000/50000 [==============================] - 15s 295us/step - loss: 0.1978 - accuracy: 0.9308 - val_loss: 2.8782 - val_accuracy: 0.5325\n",
      "Epoch 31/100\n",
      "50000/50000 [==============================] - 15s 297us/step - loss: 0.1825 - accuracy: 0.9369 - val_loss: 2.8795 - val_accuracy: 0.5365\n",
      "Epoch 32/100\n",
      "50000/50000 [==============================] - 15s 291us/step - loss: 0.1744 - accuracy: 0.9399 - val_loss: 2.9355 - val_accuracy: 0.5318\n",
      "Epoch 33/100\n",
      "50000/50000 [==============================] - 15s 295us/step - loss: 0.1656 - accuracy: 0.9439 - val_loss: 3.0851 - val_accuracy: 0.5357\n",
      "Epoch 34/100\n",
      "50000/50000 [==============================] - 15s 291us/step - loss: 0.1690 - accuracy: 0.9405 - val_loss: 3.0128 - val_accuracy: 0.5330\n",
      "Epoch 35/100\n",
      "50000/50000 [==============================] - 15s 302us/step - loss: 0.1551 - accuracy: 0.9471 - val_loss: 2.9296 - val_accuracy: 0.5330\n",
      "Epoch 36/100\n",
      "50000/50000 [==============================] - 15s 304us/step - loss: 0.1493 - accuracy: 0.9482 - val_loss: 3.1330 - val_accuracy: 0.5276\n",
      "Epoch 37/100\n",
      "50000/50000 [==============================] - 15s 310us/step - loss: 0.1583 - accuracy: 0.9454 - val_loss: 3.1390 - val_accuracy: 0.5300\n",
      "Epoch 38/100\n",
      "50000/50000 [==============================] - 16s 315us/step - loss: 0.1363 - accuracy: 0.9532 - val_loss: 3.2307 - val_accuracy: 0.5326\n",
      "Epoch 39/100\n",
      "50000/50000 [==============================] - 16s 317us/step - loss: 0.1376 - accuracy: 0.9536 - val_loss: 3.1376 - val_accuracy: 0.5276\n",
      "Epoch 40/100\n",
      "50000/50000 [==============================] - 15s 300us/step - loss: 0.1295 - accuracy: 0.9558 - val_loss: 3.2091 - val_accuracy: 0.5419\n",
      "Epoch 41/100\n",
      "50000/50000 [==============================] - 15s 299us/step - loss: 0.1287 - accuracy: 0.9556 - val_loss: 3.3428 - val_accuracy: 0.5303\n",
      "Epoch 42/100\n",
      "50000/50000 [==============================] - 15s 296us/step - loss: 0.1382 - accuracy: 0.9525 - val_loss: 3.0056 - val_accuracy: 0.5375\n",
      "Epoch 43/100\n",
      "50000/50000 [==============================] - 15s 302us/step - loss: 0.1226 - accuracy: 0.9591 - val_loss: 3.3543 - val_accuracy: 0.5334\n",
      "Epoch 44/100\n",
      "50000/50000 [==============================] - 15s 293us/step - loss: 0.1244 - accuracy: 0.9583 - val_loss: 3.6031 - val_accuracy: 0.5305\n",
      "Epoch 45/100\n",
      "50000/50000 [==============================] - 15s 299us/step - loss: 0.1274 - accuracy: 0.9571 - val_loss: 3.3031 - val_accuracy: 0.5256\n",
      "Epoch 46/100\n",
      "50000/50000 [==============================] - 15s 301us/step - loss: 0.1154 - accuracy: 0.9610 - val_loss: 3.3844 - val_accuracy: 0.5349\n",
      "Epoch 47/100\n",
      "50000/50000 [==============================] - 16s 314us/step - loss: 0.1157 - accuracy: 0.9609 - val_loss: 3.5021 - val_accuracy: 0.5172\n",
      "Epoch 48/100\n",
      "50000/50000 [==============================] - 15s 297us/step - loss: 0.1034 - accuracy: 0.9647 - val_loss: 3.5821 - val_accuracy: 0.5304\n",
      "Epoch 49/100\n",
      "50000/50000 [==============================] - 16s 312us/step - loss: 0.1117 - accuracy: 0.9624 - val_loss: 3.5050 - val_accuracy: 0.5276\n",
      "Epoch 50/100\n",
      "50000/50000 [==============================] - 15s 297us/step - loss: 0.1109 - accuracy: 0.9632 - val_loss: 3.4877 - val_accuracy: 0.5280\n",
      "Epoch 51/100\n",
      "50000/50000 [==============================] - 15s 304us/step - loss: 0.1069 - accuracy: 0.9636 - val_loss: 3.4342 - val_accuracy: 0.5361\n",
      "Epoch 52/100\n",
      "50000/50000 [==============================] - 15s 298us/step - loss: 0.1005 - accuracy: 0.9665 - val_loss: 3.5722 - val_accuracy: 0.5304\n",
      "Epoch 53/100\n",
      "50000/50000 [==============================] - 15s 303us/step - loss: 0.0976 - accuracy: 0.9682 - val_loss: 3.5951 - val_accuracy: 0.5369\n",
      "Epoch 54/100\n",
      "50000/50000 [==============================] - 15s 302us/step - loss: 0.1077 - accuracy: 0.9638 - val_loss: 3.4189 - val_accuracy: 0.5376\n"
     ]
    },
    {
     "name": "stdout",
     "output_type": "stream",
     "text": [
      "Epoch 55/100\n",
      "50000/50000 [==============================] - 15s 290us/step - loss: 0.0993 - accuracy: 0.9665 - val_loss: 3.5151 - val_accuracy: 0.5319\n",
      "Epoch 56/100\n",
      "50000/50000 [==============================] - 14s 283us/step - loss: 0.1027 - accuracy: 0.9666 - val_loss: 3.5829 - val_accuracy: 0.5394\n",
      "Epoch 57/100\n",
      "50000/50000 [==============================] - 15s 295us/step - loss: 0.1122 - accuracy: 0.9619 - val_loss: 3.7125 - val_accuracy: 0.5301\n",
      "Epoch 58/100\n",
      "50000/50000 [==============================] - 14s 287us/step - loss: 0.0914 - accuracy: 0.9688 - val_loss: 3.6406 - val_accuracy: 0.5279\n",
      "Epoch 59/100\n",
      "50000/50000 [==============================] - 15s 302us/step - loss: 0.0920 - accuracy: 0.9695 - val_loss: 3.5405 - val_accuracy: 0.5329\n",
      "Epoch 60/100\n",
      "50000/50000 [==============================] - 14s 286us/step - loss: 0.0842 - accuracy: 0.9720 - val_loss: 3.6966 - val_accuracy: 0.5294\n",
      "Epoch 61/100\n",
      "50000/50000 [==============================] - 15s 292us/step - loss: 0.1061 - accuracy: 0.9648 - val_loss: 3.5873 - val_accuracy: 0.5318\n",
      "Epoch 62/100\n",
      "50000/50000 [==============================] - 14s 288us/step - loss: 0.0773 - accuracy: 0.9742 - val_loss: 3.7137 - val_accuracy: 0.5394\n",
      "Epoch 63/100\n",
      "50000/50000 [==============================] - 15s 291us/step - loss: 0.0814 - accuracy: 0.9721 - val_loss: 3.7931 - val_accuracy: 0.5366\n",
      "Epoch 64/100\n",
      "50000/50000 [==============================] - 14s 286us/step - loss: 0.0868 - accuracy: 0.9710 - val_loss: 3.8886 - val_accuracy: 0.5297\n",
      "Epoch 65/100\n",
      "50000/50000 [==============================] - 15s 293us/step - loss: 0.0946 - accuracy: 0.9680 - val_loss: 3.5881 - val_accuracy: 0.5361\n",
      "Epoch 66/100\n",
      "50000/50000 [==============================] - 14s 286us/step - loss: 0.0813 - accuracy: 0.9733 - val_loss: 3.6628 - val_accuracy: 0.5410\n",
      "Epoch 67/100\n",
      "50000/50000 [==============================] - 14s 290us/step - loss: 0.0894 - accuracy: 0.9702 - val_loss: 3.6948 - val_accuracy: 0.5352\n",
      "Epoch 68/100\n",
      "50000/50000 [==============================] - 14s 285us/step - loss: 0.0771 - accuracy: 0.9743 - val_loss: 3.6178 - val_accuracy: 0.5308\n",
      "Epoch 69/100\n",
      "50000/50000 [==============================] - 15s 292us/step - loss: 0.0793 - accuracy: 0.9739 - val_loss: 3.5409 - val_accuracy: 0.5328\n",
      "Epoch 70/100\n",
      "50000/50000 [==============================] - 16s 314us/step - loss: 0.0877 - accuracy: 0.9714 - val_loss: 3.7057 - val_accuracy: 0.5325\n",
      "Epoch 71/100\n",
      "50000/50000 [==============================] - 15s 295us/step - loss: 0.0737 - accuracy: 0.9756 - val_loss: 3.6664 - val_accuracy: 0.5343\n",
      "Epoch 72/100\n",
      "50000/50000 [==============================] - 14s 284us/step - loss: 0.0695 - accuracy: 0.9775 - val_loss: 4.1432 - val_accuracy: 0.5295\n",
      "Epoch 73/100\n",
      "50000/50000 [==============================] - 15s 293us/step - loss: 0.0780 - accuracy: 0.9753 - val_loss: 3.7082 - val_accuracy: 0.5370\n",
      "Epoch 74/100\n",
      "50000/50000 [==============================] - 14s 287us/step - loss: 0.0733 - accuracy: 0.9753 - val_loss: 3.8108 - val_accuracy: 0.5318\n",
      "Epoch 75/100\n",
      "50000/50000 [==============================] - 15s 297us/step - loss: 0.0816 - accuracy: 0.9736 - val_loss: 3.7267 - val_accuracy: 0.5351\n",
      "Epoch 76/100\n",
      "50000/50000 [==============================] - 15s 292us/step - loss: 0.0820 - accuracy: 0.9743 - val_loss: 3.5016 - val_accuracy: 0.5304\n",
      "Epoch 77/100\n",
      "50000/50000 [==============================] - 15s 297us/step - loss: 0.0662 - accuracy: 0.9783 - val_loss: 3.8665 - val_accuracy: 0.5368\n",
      "Epoch 78/100\n",
      "50000/50000 [==============================] - 15s 293us/step - loss: 0.0785 - accuracy: 0.9736 - val_loss: 3.7613 - val_accuracy: 0.5373\n",
      "Epoch 79/100\n",
      "50000/50000 [==============================] - 14s 290us/step - loss: 0.0687 - accuracy: 0.9776 - val_loss: 3.7726 - val_accuracy: 0.5354\n",
      "Epoch 80/100\n",
      "50000/50000 [==============================] - 15s 292us/step - loss: 0.0669 - accuracy: 0.9771 - val_loss: 4.0073 - val_accuracy: 0.5379\n",
      "Epoch 81/100\n",
      "50000/50000 [==============================] - 15s 296us/step - loss: 0.0746 - accuracy: 0.9757 - val_loss: 3.7631 - val_accuracy: 0.5373\n",
      "Epoch 82/100\n",
      "50000/50000 [==============================] - 14s 290us/step - loss: 0.0650 - accuracy: 0.9787 - val_loss: 3.9800 - val_accuracy: 0.5372\n",
      "Epoch 83/100\n",
      "50000/50000 [==============================] - 15s 298us/step - loss: 0.0714 - accuracy: 0.9762 - val_loss: 3.9213 - val_accuracy: 0.5365\n",
      "Epoch 84/100\n",
      "50000/50000 [==============================] - 15s 305us/step - loss: 0.0842 - accuracy: 0.9736 - val_loss: 3.7434 - val_accuracy: 0.5424\n",
      "Epoch 85/100\n",
      "50000/50000 [==============================] - 15s 294us/step - loss: 0.0642 - accuracy: 0.9795 - val_loss: 3.9974 - val_accuracy: 0.5398\n",
      "Epoch 86/100\n",
      "50000/50000 [==============================] - 14s 284us/step - loss: 0.0751 - accuracy: 0.9756 - val_loss: 3.7470 - val_accuracy: 0.5395\n",
      "Epoch 87/100\n",
      "50000/50000 [==============================] - 15s 300us/step - loss: 0.0623 - accuracy: 0.9797 - val_loss: 3.9725 - val_accuracy: 0.5361\n",
      "Epoch 88/100\n",
      "50000/50000 [==============================] - 15s 292us/step - loss: 0.0731 - accuracy: 0.9765 - val_loss: 3.6999 - val_accuracy: 0.5371\n",
      "Epoch 89/100\n",
      "50000/50000 [==============================] - 15s 299us/step - loss: 0.0566 - accuracy: 0.9823 - val_loss: 3.9500 - val_accuracy: 0.5334\n",
      "Epoch 90/100\n",
      "50000/50000 [==============================] - 15s 291us/step - loss: 0.0629 - accuracy: 0.9795 - val_loss: 4.0572 - val_accuracy: 0.5412\n",
      "Epoch 91/100\n",
      "50000/50000 [==============================] - 14s 288us/step - loss: 0.0660 - accuracy: 0.9780 - val_loss: 3.8564 - val_accuracy: 0.5360\n",
      "Epoch 92/100\n",
      "50000/50000 [==============================] - 15s 297us/step - loss: 0.0619 - accuracy: 0.9800 - val_loss: 3.8202 - val_accuracy: 0.5383\n",
      "Epoch 93/100\n",
      "50000/50000 [==============================] - 14s 290us/step - loss: 0.0738 - accuracy: 0.9766 - val_loss: 3.8080 - val_accuracy: 0.5378\n",
      "Epoch 94/100\n",
      "50000/50000 [==============================] - 14s 289us/step - loss: 0.0543 - accuracy: 0.9830 - val_loss: 3.8556 - val_accuracy: 0.5390\n",
      "Epoch 95/100\n",
      "50000/50000 [==============================] - 15s 291us/step - loss: 0.0617 - accuracy: 0.9804 - val_loss: 3.7987 - val_accuracy: 0.5428\n",
      "Epoch 96/100\n",
      "50000/50000 [==============================] - 15s 304us/step - loss: 0.0690 - accuracy: 0.9782 - val_loss: 3.6712 - val_accuracy: 0.5360\n",
      "Epoch 97/100\n",
      "50000/50000 [==============================] - 16s 312us/step - loss: 0.0552 - accuracy: 0.9825 - val_loss: 4.0363 - val_accuracy: 0.5427\n",
      "Epoch 98/100\n",
      "50000/50000 [==============================] - 16s 313us/step - loss: 0.0574 - accuracy: 0.9816 - val_loss: 4.0513 - val_accuracy: 0.5451\n",
      "Epoch 99/100\n",
      "50000/50000 [==============================] - 16s 322us/step - loss: 0.0621 - accuracy: 0.9799 - val_loss: 3.7931 - val_accuracy: 0.5388\n",
      "Epoch 100/100\n",
      "50000/50000 [==============================] - 16s 330us/step - loss: 0.0612 - accuracy: 0.9803 - val_loss: 3.9981 - val_accuracy: 0.5394\n"
     ]
    },
    {
     "data": {
      "text/plain": [
       "<keras.callbacks.callbacks.History at 0x11a9cbf3e80>"
      ]
     },
     "execution_count": 9,
     "metadata": {},
     "output_type": "execute_result"
    }
   ],
   "source": [
    "model.fit(x_train, y_train, \n",
    "          epochs=EPOCHS, \n",
    "          batch_size=BATCH_SIZE, \n",
    "          validation_data=(x_test, y_test), \n",
    "          shuffle=True)"
   ]
  },
  {
   "cell_type": "code",
   "execution_count": 10,
   "metadata": {},
   "outputs": [
    {
     "data": {
      "image/png": "[encoded data removed]",
      "text/plain": [
       "<Figure size 432x288 with 1 Axes>"
      ]
     },
     "metadata": {
      "needs_background": "light"
     },
     "output_type": "display_data"
    },
    {
     "data": {
      "image/png": "[encoded data removed]",
      "text/plain": [
       "<Figure size 432x288 with 1 Axes>"
      ]
     },
     "metadata": {
      "needs_background": "light"
     },
     "output_type": "display_data"
    }
   ],
   "source": [
    "import matplotlib.pyplot as plt\n",
    "\n",
    "\n",
    "train_loss = model.history.history[\"loss\"]\n",
    "valid_loss = model.history.history[\"val_loss\"]\n",
    "\n",
    "train_acc = model.history.history[\"accuracy\"]\n",
    "valid_acc = model.history.history[\"val_accuracy\"]\n",
    "\n",
    "plt.plot(range(len(train_loss)), train_loss, label=\"train loss\")\n",
    "plt.plot(range(len(valid_loss)), valid_loss, label=\"valid loss\")\n",
    "plt.legend()\n",
    "plt.title(\"Loss\")\n",
    "plt.show()\n",
    "\n",
    "plt.plot(range(len(train_acc)), train_acc, label=\"train accuracy\")\n",
    "plt.plot(range(len(valid_acc)), valid_acc, label=\"valid accuracy\")\n",
    "plt.legend()\n",
    "plt.title(\"Accuracy\")\n",
    "plt.show()"
   ]
  },
  {
   "cell_type": "code",
   "execution_count": null,
   "metadata": {},
   "outputs": [],
   "source": []
  }
 ],
 "metadata": {
  "kernelspec": {
   "display_name": "Python 3",
   "language": "python",
   "name": "python3"
  },
  "language_info": {
   "codemirror_mode": {
    "name": "ipython",
    "version": 3
   },
   "file_extension": ".py",
   "mimetype": "text/x-python",
   "name": "python",
   "nbconvert_exporter": "python",
   "pygments_lexer": "ipython3",
   "version": "3.7.1"
  }
 },
 "nbformat": 4,
 "nbformat_minor": 2
}
